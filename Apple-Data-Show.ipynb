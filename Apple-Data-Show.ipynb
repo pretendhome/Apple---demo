{
 "cells": [
  {
   "cell_type": "markdown",
   "metadata": {},
   "source": [
    "Demo of signals that can be pulled out of utterances:\n",
    "\n",
    "The goal of this project is to demonstrate different signals that could be pulled out from utterances automatically, without any manual analysis.  \n",
    "\n",
    "The project in its current state is of purely an exploratory nature, using only 2000 possible utterances that I have fabricated for the purpose of this exercise, I have them in Italian(not Latin) as to not distract from the code.\n",
    "\n",
    "This is done in three sections:\n",
    "1: Matching intent(or slots, or ASR strings) and TTS\n",
    "2: Using data points like confidence and city to triangulate against one intent, in this case hours\n",
    "3: Use NaiveBayes ML models to use the words in the questions themselves to pull out signals\n",
    "\n",
    "------------------------\n",
    "\n",
    "1) Our first goal would be to match and individuate errors using Intent and TTS to bucketize errors based on whether or not the user intent was fulfilled."
   ]
  },
  {
   "cell_type": "code",
   "execution_count": 1,
   "metadata": {},
   "outputs": [],
   "source": [
    "\n",
    "import matplotlib\n",
    "import matplotlib.pyplot as plt\n",
    "import pandas as pd\n",
    "import nltk\n",
    "from nltk.corpus import stopwords\n",
    "import string\n",
    "# nltk.download('stopwords')\n",
    "# nltk.download('punkt')\n",
    "from collections import Counter"
   ]
  },
  {
   "cell_type": "code",
   "execution_count": 2,
   "metadata": {},
   "outputs": [],
   "source": [
    "from pyspark.context import SparkContext\n",
    "from pyspark.sql.session import SparkSession\n",
    "try:\n",
    "    sc\n",
    "    spark\n",
    "except NameError:\n",
    "    sc = SparkContext('local')\n",
    "    spark = SparkSession(sc)\n",
    "\n",
    "from pyspark import SparkFiles"
   ]
  },
  {
   "cell_type": "code",
   "execution_count": 3,
   "metadata": {},
   "outputs": [],
   "source": [
    "#define\n",
    "top_N = 10000\n",
    "stopwords = set('italian')\n",
    "stopwords = nltk.corpus.stopwords.words('italian')\n",
    "utterances = pd.read_csv('tool_testing.csv')\n",
    "# utterances.head()"
   ]
  },
  {
   "cell_type": "code",
   "execution_count": 4,
   "metadata": {},
   "outputs": [],
   "source": [
    "import re\n",
    "total_intent_yes = 0\n",
    "total_attrib_yes = 0\n",
    "for index, row in utterances.iterrows():  \n",
    "    if re.match(\"IsOpenIntent|GetClosingTimeIntent|GetHoursIntent|GetOpeningTimeIntent|IsClosedIntent\", row[\"TTS_Intent\"]):\n",
    "        utterances.loc[index, \"includes\"] = \"yes\"\n",
    "        total_intent_yes = total_intent_yes + 1\n",
    "        if re.search(\"^.*dalle (\\d{2}:\\d{2}) alle (\\d{2}:\\d{2}).*$\", row[\"TTS\"]):\n",
    "            utterances.loc[index, \"attribute\"] = \"yes\"\n",
    "            total_attrib_yes = total_attrib_yes + 1\n",
    "    else:\n",
    "        utterances.loc[index, \"includes\"] = \"no\""
   ]
  },
  {
   "cell_type": "code",
   "execution_count": 5,
   "metadata": {},
   "outputs": [
    {
     "name": "stdout",
     "output_type": "stream",
     "text": [
      "683\n"
     ]
    }
   ],
   "source": [
    "print(total_intent_yes-total_attrib_yes)\n",
    "\n",
    "    \n"
   ]
  },
  {
   "cell_type": "code",
   "execution_count": 6,
   "metadata": {},
   "outputs": [
    {
     "name": "stdout",
     "output_type": "stream",
     "text": [
      "0.13324873096446702\n"
     ]
    }
   ],
   "source": [
    "print(total_attrib_yes/total_intent_yes)"
   ]
  },
  {
   "attachments": {},
   "cell_type": "markdown",
   "metadata": {},
   "source": [
    "Conclusion of first goal: This process needs to be refined and needs to be bucketized per intent, however, the picture given is certainly useful and could elaborated extensively.  The idea here would be to create a system of pairs using Regex: on one side, the presence of a slot(PlaceType, PlaceName, etc.), intent and ASR to ascertain the content type the customer is looking to consume.  In this case we can determine that if the answer has hours in it, then the customer will have at least received the type of content they're looking for.  In a later iteration we could look for signals such as distance between customer and Point of Interest(POI), whether or not the POI is a Chain, parse out category searches(restaurant, coffee shop, etc.) to get an even clearer idea of whether or not the pair succeeded.  For local search (looking for POIs or services close to the user) we could create the following buckets with this automated process:\n",
    "\n",
    "\tCategory\n",
    "ct1\t\"No\" Answer Given\n",
    "ct2\tCategory Correct / Wrong POI or  List\n",
    "ct3\tWrong Category\n",
    "ct4\tWants Category / Gets Attribute\n",
    "ct5\tWants Category / Gets Chain\n",
    "ct6\tWants Category / Gets Traffic -Directions\n",
    "\t\n",
    "\tChain\n",
    "ch1\t\"No\" Answer Given\n",
    "ch2\tWants Closest / Wrong PoI or List\n",
    "ch3\tWrong Chain\n",
    "ch4\tWants Closest / Gets Attribute\n",
    "ch5\tWants Closest / Gets Category\n",
    "ch6\tWants Closest / Gets Traffic -Directions\n",
    "\t\n",
    "\tPOI/Attribute\n",
    "p1\t\"No\" Answer Given\n",
    "p2\tRight Attribute / Wrong POI or List\n",
    "p3\tGets Wrong Attribute\n",
    "p4\tWants Attribute / Gets  Category\n",
    "p5\tWants Attribute / Gets Chain\n",
    "p6\tWants Attribute / Gets Traffic - Directions\n",
    "\t\n",
    "\tNavigation\n",
    "n1\t\"No\" Answer Given\n",
    "n2\tWants Directions / Wrong POI or List\n",
    "n3\tWrong Traffic - Directions \n",
    "n4\tWants Directions-Traffic / Gets Attribute\n",
    "n5\tWants Directions-Traffic / Gets Category\n",
    "n6\tWants Directions-Traffic / Gets Chain"
   ]
  },
  {
   "cell_type": "raw",
   "metadata": {},
   "source": [
    "2) Our second goal was to create signals that could perhaps be used by Product Managers to prioritize their tasks, such as their choice of data providers. In particular we look here at intent confidence and intent by city, and then MISSING attribute coverage by city."
   ]
  },
  {
   "cell_type": "code",
   "execution_count": 7,
   "metadata": {},
   "outputs": [],
   "source": [
    "intent = utterances.dropna()\n",
    "# intent.head()"
   ]
  },
  {
   "cell_type": "code",
   "execution_count": 8,
   "metadata": {},
   "outputs": [],
   "source": [
    "oth = utterances[utterances[\"attribute\"].isnull()] \n",
    "# oth.head()"
   ]
  },
  {
   "cell_type": "code",
   "execution_count": 9,
   "metadata": {},
   "outputs": [],
   "source": [
    "# Groupby_city\n",
    "oth_by_city = oth.groupby([\"city\"])\n",
    "intent_by_city = intent.groupby([\"city\"])\n",
    "# intent_by_city.head()"
   ]
  },
  {
   "cell_type": "code",
   "execution_count": 10,
   "metadata": {},
   "outputs": [
    {
     "data": {
      "text/plain": [
       "city\n",
       "Alpo VR, Italy                                                   3\n",
       "Basella, Province of Bergamo, Italy                              2\n",
       "Belfiore, Metropolitan City of Florence, Italy                   3\n",
       "Bulgorello CO, Italy                                             2\n",
       "Busto Arsizio, VA, Italy                                         1\n",
       "Caronno Pertusella, VA, Italy                                    2\n",
       "Costeggiola VR, Italy                                            2\n",
       "Florence, Metropolitan City of Florence, Italy                   2\n",
       "Forcoli, Province of Pisa, Italy                                 1\n",
       "Gallarate, VA, Italy                                             3\n",
       "Gorgonzola, Metropolitan City of Milan, Italy                    4\n",
       "Imola, Metropolitan City of Bologna, Italy                       1\n",
       "Legnano, Metropolitan City of Milan, Italy                       2\n",
       "Livorno, Province of Livorno, Italy                              1\n",
       "Lugano, Switzerland                                              3\n",
       "Malgrate LC, Italy                                               1\n",
       "Manciano, Province of Grosseto, Italy                            2\n",
       "Mantua, Province of Mantua, Italy                                3\n",
       "Milan, Metropolitan City of Milan, Italy                        21\n",
       "Modena, Province of Modena, Italy                                1\n",
       "Noferi-Lavatoio, Province of Arezzo, Italy                       1\n",
       "Nottingham, UK                                                   1\n",
       "Padua, Province of Padua, Italy                                  1\n",
       "Pizzighettone CR, Italy                                          1\n",
       "Poggio Renatico, Province of Ferrara, Italy                      2\n",
       "Pontecurone AL, Italy                                            1\n",
       "Pordenone, Province of Pordenone, Italy                          1\n",
       "Prato, Province of Prato, Italy                                  2\n",
       "Rapallo, Metropolitan City of Genoa, Italy                       2\n",
       "Rome, Metropolitan City of Rome, Italy                           4\n",
       "San Gabriele-Mondonuovo, Metropolitan City of Bologna, Italy     1\n",
       "San Giuseppe BS, Italy                                           1\n",
       "Saronno, VA, Italy                                               1\n",
       "Sovicille SI, Italy                                              2\n",
       "Travagliato, Province of Brescia, Italy                          3\n",
       "Turin, Metropolitan City of Turin, Italy                         4\n",
       "Viggiù VA, Italy                                                 1\n",
       "Villaggio le Fontanelle, Metropolitan City of Bari, Italy        2\n",
       "Zoie-vernetto-grangia TO, Italy                                  1\n",
       "Zona Industriale, Metropolitan City of Bologna, Italy            1\n",
       "Name: city, dtype: int64"
      ]
     },
     "execution_count": 10,
     "metadata": {},
     "output_type": "execute_result"
    }
   ],
   "source": [
    "oth_city = oth_by_city.city.count()\n",
    "intent_city = intent_by_city.city.count()\n",
    "\n",
    "intent_city.head(50)                      "
   ]
  },
  {
   "cell_type": "code",
   "execution_count": 11,
   "metadata": {},
   "outputs": [
    {
     "data": {
      "text/plain": [
       "city\n",
       "44.73271                                                                               1\n",
       "Acqui Terme, Province of Alessandria, Italy                                            2\n",
       "Agliano Terme, Province of Asti, Italy                                                 2\n",
       "Alba, Province of Cuneo, Italy                                                         2\n",
       "Albairate MI, Italy                                                                    2\n",
       "Albese con Cassano, Province of Como, Italy                                            1\n",
       "Albignasego, Province of Padua, Italy                                                  4\n",
       "Alessandria, Province of Alessandria, Italy                                            5\n",
       "Alghero, Province of Sassari, Italy                                                    1\n",
       "Alpignano, Metropolitan City of Turin, Italy                                           2\n",
       "Alpo VR, Italy                                                                         3\n",
       "Anacapri NA, Italy                                                                     2\n",
       "Anguillara Veneta PD, Italy                                                            2\n",
       "Aosta, Aosta Valley, Italy                                                             2\n",
       "Arbizzano, VR, Italy                                                                   2\n",
       "Arbus, Sardinia, VS, Italy                                                             4\n",
       "Arezzo, Province of Arezzo, Italy                                                      4\n",
       "Ariccia, Metropolitan City of Rome, Italy                                              1\n",
       "Arluno, Metropolitan City of Milan, Italy                                              1\n",
       "Arrodola Nuova, Province of Udine, Italy                                               1\n",
       "Arsiero, Province of Vicenza, Italy                                                    1\n",
       "Artigianale, Province of Pavia, Italy                                                  1\n",
       "Arzachena, Province of Olbia-Tempio, Italy                                             2\n",
       "Assemini, Province of Cagliari, Italy                                                  3\n",
       "Autotrasportatori, Province of Modena, Italy                                           1\n",
       "Avezzano, Province of L'Aquila, Italy                                                  2\n",
       "Avigliano, Province of Potenza, Italy                                                  2\n",
       "Aziende Agricole Associate Fonte Verde, Free municipal consortium of Ragusa, Italy     2\n",
       "Azzano San Paolo, Province of Bergamo, Italy                                           1\n",
       "Azzate, VA, Italy                                                                      1\n",
       "Bad Dreikirchen, South Tyrol, Italy                                                    1\n",
       "Bagheria, Province of Palermo, Italy                                                   3\n",
       "Bareggio, Metropolitan City of Milan, Italy                                            2\n",
       "Bari, Metropolitan City of Bari, Italy                                                 4\n",
       "Barlassina, Province of Monza and Brianza, Italy                                       2\n",
       "Barzanò, Province of Lecco, Italy                                                      1\n",
       "Basel, Switzerland                                                                     3\n",
       "Basiglio, Metropolitan City of Milan, Italy                                            1\n",
       "Bassano del Grappa, Province of Vicenza, Italy                                         1\n",
       "Beeston, UK                                                                            3\n",
       "Belfiore, Metropolitan City of Florence, Italy                                         4\n",
       "Belgioioso, Province of Pavia, Italy                                                   4\n",
       "Belluno, Province of Belluno, Italy                                                    1\n",
       "Bergamo, Province of Bergamo, Italy                                                    5\n",
       "Bernareggio, Province of Monza and Brianza, Italy                                      2\n",
       "Bertipaglia, Province of Padua, Italy                                                  3\n",
       "Beura-Cardezza, Province of Verbano-Cusio-Ossola, Italy                                2\n",
       "Bianzè VC, Italy                                                                       2\n",
       "Bibbiano, Province of Reggio Emilia, Italy                                             2\n",
       "Biella, Province of Biella, Italy                                                      4\n",
       "Biellese-Belvedere, Metropolitan City of Turin, Italy                                  2\n",
       "Bitonto, Metropolitan City of Bari, Italy                                              2\n",
       "Bollate, Metropolitan City of Milan, Italy                                             3\n",
       "Bologna, Metropolitan City of Bologna, Italy                                          17\n",
       "Bolzano, South Tyrol, Italy                                                            3\n",
       "Borgo Nuovo TO, Italy                                                                  1\n",
       "Borgo a Buggiano, Province of Pistoia, Italy                                           1\n",
       "Borgomanero, Province of Novara, Italy                                                 2\n",
       "Borgovirgiliana, Province of Mantua, Italy                                             2\n",
       "Bovisio-Masciago, Province of Monza and Brianza, Italy                                 1\n",
       "Name: city, dtype: int64"
      ]
     },
     "execution_count": 11,
     "metadata": {},
     "output_type": "execute_result"
    }
   ],
   "source": [
    "#Missing attribute coverage by city\n",
    "oth_city.head(60)"
   ]
  },
  {
   "cell_type": "code",
   "execution_count": 12,
   "metadata": {},
   "outputs": [
    {
     "data": {
      "text/plain": [
       "city\n",
       "Alpo VR, Italy                                    1.469716\n",
       "Basella, Province of Bergamo, Italy               0.430843\n",
       "Belfiore, Metropolitan City of Florence, Italy    1.231022\n",
       "Bulgorello CO, Italy                              1.022413\n",
       "Busto Arsizio, VA, Italy                          0.466272\n",
       "Name: Score, dtype: float64"
      ]
     },
     "execution_count": 12,
     "metadata": {},
     "output_type": "execute_result"
    }
   ],
   "source": [
    "#intent confidence by city\n",
    "oth_confidence_per_city = oth_by_city.Score.sum()\n",
    "intent_confidence_per_city = intent_by_city.Score.sum()\n",
    "\n",
    "intent_confidence_per_city.head()"
   ]
  },
  {
   "cell_type": "code",
   "execution_count": 13,
   "metadata": {},
   "outputs": [
    {
     "data": {
      "text/plain": [
       "city\n",
       "44.73271                                       0.295040\n",
       "Acqui Terme, Province of Alessandria, Italy    0.733091\n",
       "Agliano Terme, Province of Asti, Italy         1.089073\n",
       "Alba, Province of Cuneo, Italy                 1.042696\n",
       "Albairate MI, Italy                            0.216826\n",
       "Name: Score, dtype: float64"
      ]
     },
     "execution_count": 13,
     "metadata": {},
     "output_type": "execute_result"
    }
   ],
   "source": [
    "#Missing Attribute, Confidence by city\n",
    "oth_confidence_per_city.head()"
   ]
  },
  {
   "cell_type": "code",
   "execution_count": 14,
   "metadata": {},
   "outputs": [
    {
     "data": {
      "text/plain": [
       "city\n",
       "Alpo VR, Italy                                    0.489905\n",
       "Basella, Province of Bergamo, Italy               0.215422\n",
       "Belfiore, Metropolitan City of Florence, Italy    0.410341\n",
       "Bulgorello CO, Italy                              0.511207\n",
       "Busto Arsizio, VA, Italy                          0.466272\n",
       "dtype: float64"
      ]
     },
     "execution_count": 14,
     "metadata": {},
     "output_type": "execute_result"
    }
   ],
   "source": [
    "#Mean-words\n",
    "oth_mean = oth_confidence_per_city / oth_city\n",
    "intent_mean = intent_confidence_per_city / intent_city\n",
    "\n",
    "\n",
    "intent_mean.head()"
   ]
  },
  {
   "cell_type": "code",
   "execution_count": 15,
   "metadata": {},
   "outputs": [
    {
     "data": {
      "text/plain": [
       "IsClosedIntent Uno dei centri commerciali più vicini trovati si chiama MediaWorld, in Viale Certosa 29 a Milano. Questa attività è aperta mercoledì dalle 09:00 alle 20:30.                                                                               4\n",
       "IsOpenIntent Uno dei centri commerciali più vicini trovati si chiama MediaWorld, in Viale Certosa 29 a Milano. Questa attività è aperta mercoledì dalle 09:00 alle 20:30.                                                                                 4\n",
       "IsOpenIntent Mangia Napoli in Viale Agosta, 39, a Roma, è aperto il 30/7/2019 dalle 12:30 alle 14:45, e il 30/7/2019 dalle 19:30 alle 23:45.                                                                                                              3\n",
       "GetOpeningTimeIntent È aperto oggi, dalle 08:00 alle 13:00 e oggi, dalle 16:00 alle 20:00.                                                                                                                                                                3\n",
       "GetClosingTimeIntent Esselunga in Via Ferruccio Gilera 1, ad Arcore, è aperto il 26/7/2019 dalle 08:00 alle 21:00.                                                                                                                                        3\n",
       "GetHoursIntent Foxtons Walthamstow in 183-185 Hoe St, a London, è aperto il 26/7/2019 dalle 09:00 alle 18:00.                                                                                                                                             3\n",
       "IsOpenIntent Una delle attività trovate si chiama Eskimino, in Via dè Canacci 12R a Firenze. È aperto venerdì, dalle 00:00 alle 02:00 e dal 2/8/2019 alle 19:00 al 3/8/2019 alle 02:00.                                                                   2\n",
       "GetHoursIntent Orlando in Piazza Unità D'Italia, 54, a Saronno, è aperto il 12/8/2019 da 12:00 alle 14:30, e il 12/8/2019 dalle 18:30 alle 23:00.                                                                                                         2\n",
       "GetOpeningTimeIntent Il Toys Center in Via Cesare Battisti, 272, a San Giovanni Lupatoto, è aperto il 15/7/2019 dalle 09:00 alle 12:30, e il 15/7/2019 dalle 15:00 alle 19:30.                                                                            2\n",
       "GetOpeningTimeIntent Conad in Corso Europa 10, a Ghisalba, è attualmente chiuso ma sarà aperto il 23/7/2019 dalle 08:30 alle 20:00.                                                                                                                       2\n",
       "GetOpeningTimeIntent Questa attività dovrebbe essere chiusa, ma sarà aperta giovedì dalle 09:30 alle 19:30.                                                                                                                                               2\n",
       "GetOpeningTimeIntent Poste Italiane in Via Goffredo Mameli, 19, a Colognola Ai Colli, è aperto il 5/8/2019 dalle 08:20 alle 13:45.                                                                                                                        2\n",
       "GetOpeningTimeIntent L'indirizzo di uno dei Trattoria Il Contadino trovati è Via Palazzuolo 71R, 50123 Firenze FI. Questa attività dovrebbe essere chiusa, ma sarà aperta oggi dalle 12:00 alle 22:30.                                                    2\n",
       "GetClosingTimeIntent Una delle attività trovate si chiama Farmacia Floridi Elena, in Via Massetana, 63 a Sovicille. Questa attività dovrebbe essere chiusa, ma sarà aperta domani dalle 09:00 alle 13:00.                                                 2\n",
       "GetOpeningTimeIntent Ecco l'indirizzo di una delle pizzerie trovate, Pizzeria Capri da Nasti: Via Zambonate 25, 24122 Bergamo BG. Questa attività dovrebbe essere chiusa, ma sarà aperta domani dalle 12:00 alle 15:00.                                   2\n",
       "IsOpenIntent L'Audace Palestre in Via Bronzino, 15, a Milano, è attualmente chiuso ma sarà aperto il 20/7/2019 dalle 08:00 alle 12:00.                                                                                                                    2\n",
       "GetHoursIntent Una delle attività trovate si chiama Poste Italiane, in Via Lazzarotto 10 a Cesate. Questa attività è aperta oggi dalle 08:20 alle 13:35.                                                                                                  2\n",
       "GetOpeningTimeIntent Il BEN in Via Custoza 43, a Paderno Dugnano, è attualmente chiuso ma sarà aperto il 21/7/2019 dalle 14:00 alle 23:00.                                                                                                                2\n",
       "GetOpeningTimeIntent Il Central Park in Via del Fosso Macinante 2, a Firenze, è attualmente chiuso ma sarà aperto il 13/7/2019 dalle 23:00 alle 23:59.                                                                                                    2\n",
       "IsOpenIntent Una delle attività trovate si chiama Farmacia San Michele Dottor Bondi, in Via Roma, 45 a Poggio Renatico. Questa attività dovrebbe essere chiusa, ma sarà aperta oggi dalle 09:00 alle 13:30.                                               2\n",
       "GetHoursIntent Ecco una delle pizzerie che si chiama Mangiare Tu. Dista 7.276,1 chilometri in Main Street, a Bradley Beach. Questa attività dovrebbe essere chiusa, ma sarà aperta domani dalle 16:00 alle 21:30.                                         2\n",
       "GetOpeningTimeIntent L'Euronics in Via Postumia, 58, a Villafranca Di Verona, è attualmente chiuso ma sarà aperto il 15/7/2019 dalle 15:30 alle 19:30.                                                                                                    1\n",
       "GetHoursIntent Ho trovato un Antica Trattoria Sanesi Sas di Serafino Sanesi & C. a Lastra A Signa. Dista 2,5 chilometri in Via Dell' Arione, 33, a Lastra A Signa. È aperto oggi, dalle 12:15 alle 14:30 e oggi, dalle 19:45 alle 22:30.                  1\n",
       "IsOpenIntent Lo Shopville Le Gru in Via Crea 10, a Grugliasco, è attualmente chiuso ma sarà aperto il 18/7/2019 dalle 09:00 alle 22:00.                                                                                                                   1\n",
       "IsOpenIntent Ho trovato un Brek - Grugliasco C/O Le Gru. Dista 1,8 chilometri in Via Crea, 10, a Grugliasco. Questa attività dovrebbe essere chiusa, ma sarà aperta oggi dalle 11:00 alle 15:00.                                                          1\n",
       "GetHoursIntent Il Coop in Via Amatore Sciesa, 15, a Rapallo, è attualmente chiuso ma sarà aperto il 22/7/2019 dalle 08:30 alle 21:00.                                                                                                                     1\n",
       "IsOpenIntent Una delle attività trovate si chiama Farmacia Dr. Emilio Badanai Scalzotto, in Piazza Risorgimento, 27 a Pordenone. Questa attività dovrebbe essere chiusa, ma sarà aperta domani dalle 08:30 alle 13:30.                                    1\n",
       "GetOpeningTimeIntent L'indirizzo di uno dei Valentino trovati è Via Aurelia 793, 16033 Lavagna GE. Chiuderà tra 10 minuti, ma sarà aperto domani dalle 00:00 alle 23:59.                                                                                  1\n",
       "GetClosingTimeIntent Starbucks in Via Cordusio 3, a Milano, è aperto il 1/5/2020 dalle 07:00 alle 22:00.                                                                                                                                                  1\n",
       "GetOpeningTimeIntent Il Media World C/O Grandemilia in Via Emilia Ovest, 1480, a Modena, è attualmente chiuso ma sarà aperto il 22/7/2019 dalle 09:00 alle 22:00.                                                                                         1\n",
       "                                                                                                                                                                                                                                                         ..\n",
       "GetHoursIntent Una delle attività più vicini trovate si chiama Mail Boxes Etc. - Centro MBE 0626, in Piazza Nazario Sauro 18 a Torino. Questa attività dovrebbe essere chiusa, ma sarà aperta oggi dalle 09:00 alle 12:30.                                1\n",
       "IsOpenIntent Una delle attività trovate si chiama Farmacia Tre Ponti, in Viale Luigi Cadorna, 31/B a Busto Arsizio. Questa attività dovrebbe essere chiusa, ma sarà aperta domani dalle 09:00 alle 12:30.                                                 1\n",
       "GetOpeningTimeIntent Una delle attività trovate si chiama Farmacia Tretti Dr. Paolo, in Via Circonvallazione Nord, 29 a Manciano. Questa attività dovrebbe essere chiusa, ma sarà aperta oggi dalle 09:00 alle 13:00.                                     1\n",
       "GetClosingTimeIntent Ho trovato un Brek - Grugliasco C/O Le Gru. Dista 1,8 chilometri in Via Crea, 10, a Grugliasco. Questa attività dovrebbe essere chiusa, ma sarà aperta oggi dalle 11:00 alle 15:00.                                                  1\n",
       "GetOpeningTimeIntent Una delle attività trovate si chiama Officina Estragon, in Via Stalingrado, 83 a Bologna. Questa attività è aperta venerdì dalle 20:00 alle 23:59.                                                                                   1\n",
       "IsOpenIntent Decathlon in Via Cassanese Km 10, a Vignate, è aperto il 31/7/2019 dalle 09:00 alle 20:00.                                                                                                                                                   1\n",
       "GetOpeningTimeIntent Una delle attività trovate si chiama Osteria Borgo, in Via Filanda 22 a Castelvetro di Modena. Questa attività è aperta oggi dalle 19:30 alle 23:59.                                                                                 1\n",
       "GetOpeningTimeIntent Il numero di telefono di uno dei Le Moulin trovati, in Rue Col Ranzola, 94 a Brusson, è 3332749466. Questa attività dovrebbe essere chiusa, ma sarà aperta oggi dalle 21:00 alle 22:00.                                              1\n",
       "GetOpeningTimeIntent Media World in Via Bruno Buozzi, 17, a Lecco, è aperto il 5/8/2019 dalle 09:00 alle 20:00.                                                                                                                                           1\n",
       "GetClosingTimeIntent Coin in Corso Magenta, 2, a Brescia, è attualmente chiuso ma sarà aperto il 15/8/2019 dalle 09:30 alle 20:00.                                                                                                                        1\n",
       "IsOpenIntent Il numero di telefono trovato è 0533328300. Questa attività dovrebbe essere chiusa, ma sarà aperta domani dalle 12:00 alle 15:00.                                                                                                            1\n",
       "GetClosingTimeIntent Carrefour in Via Postumia, a Tortona, è attualmente chiuso ma sarà aperto il 30/7/2019 dalle 08:30 alle 20:00.                                                                                                                       1\n",
       "GetClosingTimeIntent Una delle attività trovate si chiama Farmacia Castelforte Dr.ssa Mediati Maria Grazia, in Via Castelforte, 33 a Roma. Questa attività dovrebbe essere chiusa, ma sarà aperta domani dalle 08:30 alle 13:00.                          1\n",
       "IsOpenIntent Unicredit Spa in Via Manzoni Alessandro, 4, a Gallarate, è aperto il 5/8/2019 dalle 08:20 alle 13:20.                                                                                                                                        1\n",
       "IsOpenIntent Il numero di telefono di uno dei Domus Academy SPA trovati, in Via G. Watt 27 a Milano, è 0242414001. Questa attività dovrebbe essere chiusa, ma sarà aperta domani dalle 08:00 alle 17:00.                                                  1\n",
       "GetHoursIntent Una delle attività trovate si chiama Bonomelli Food Service Bonomelli Food Service S.r.l., in 5/7/9, Via Salvella a Rovato. È aperto oggi, dalle 08:00 alle 12:00 e oggi, dalle 13:30 alle 17:30.                                          1\n",
       "IsOpenIntent Tigros in Via Cattaneo, 3, a Saronno, è aperto il 15/8/2019 dalle 08:30 alle 12:30.                                                                                                                                                          1\n",
       "GetOpeningTimeIntent Coin in Corso Magenta, 2, a Brescia, è attualmente chiuso ma sarà aperto il 15/8/2019 dalle 09:30 alle 20:00.                                                                                                                        1\n",
       "IsOpenIntent Una delle attività trovate si chiama Despar, in Via Savona, 2 a Padova. Questa attività dovrebbe essere chiusa, ma sarà aperta domani dalle 08:30 alle 20:00.                                                                                1\n",
       "IsOpenIntent Iper in Strada Provinciale 184, a Brembate, è aperto il 23/8/2019 dalle 09:00 alle 20:00.                                                                                                                                                    1\n",
       "GetClosingTimeIntent Una delle attività trovate si chiama Farmacia Tretti Dr. Paolo, in Via Circonvallazione Nord, 29 a Manciano. Questa attività dovrebbe essere chiusa, ma sarà aperta oggi dalle 09:00 alle 13:00.                                     1\n",
       "IsOpenIntent Starbucks in Via Cordusio 3, a Milano, è aperto il 1/5/2020 dalle 07:00 alle 22:00.                                                                                                                                                          1\n",
       "GetOpeningTimeIntent Banca Sella - Agenzia 41 di Bussoleno in Strada Torino, 29, a Bussoleno, è aperto il 7/8/2019 dalle 08:20 alle 13:15, e il 7/8/2019 dalle 14:45 alle 15:45.                                                                          1\n",
       "GetHoursIntent I.Pe.R in Piazza Trento E Trieste 4, a Busto Arsizio, è aperto il 30/8/2019 dalle 09:00 alle 12:30, e il 30/8/2019 dalle 14:30 alle 19:00.                                                                                                 1\n",
       "IsOpenIntent Old Wild West in Via Pietro Filonzi 4, ad Ancona, è aperto il 12/8/2019 dalle 00:00 alle 15:00, e il 12/8/2019 dalle 19:00 alle 23:59.                                                                                                       1\n",
       "GetOpeningTimeIntent Intersport Cisalfa in Via Orzinuovi, a Brescia, è aperto il 15/8/2019 dalle 09:30 alle 19:30.                                                                                                                                        1\n",
       "GetOpeningTimeIntent Unicredit Spa in Via Madonna In Campagna, 10, a Gallarate, è aperto il 5/8/2019 dalle 08:20 alle 12:45.                                                                                                                              1\n",
       "IsOpenIntent L'indirizzo di uno dei Decathlon trovati è Via Comunita' Europea, 6, 50063 Figline E Incisa Valdarno FI. Questa attività dovrebbe essere chiusa, ma sarà aperta domani dalle 09:00 alle 20:30.                                               1\n",
       "IsOpenIntent Nottingham Piccolino in Weekday Cross, a Nottingham, è aperto l'11/8/2019 dalle 12:00 alle 22:30.                                                                                                                                            1\n",
       "GetOpeningTimeIntent Ecco l'indirizzo di uno dei ristorante più vicini trovati, Antica Trattoria ai 4 Soldi: Via Jacopo Foroni, 18, 37067 Valeggio Sul Mincio VR. Questa attività dovrebbe essere chiusa, ma sarà aperta oggi dalle 18:30 alle 22:00.     1\n",
       "Name: TTS_Intent, Length: 64, dtype: int64"
      ]
     },
     "execution_count": 15,
     "metadata": {},
     "output_type": "execute_result"
    }
   ],
   "source": [
    "#Looking at the answers in this bucket\n",
    "intent[\"TTS_Intent\"].value_counts()"
   ]
  },
  {
   "cell_type": "code",
   "execution_count": 16,
   "metadata": {},
   "outputs": [
    {
     "data": {
      "text/plain": [
       "SearchPlaceIntent Mi spiace, non lo so. Per ora posso cercare numeri di telefono, orari e indirizzi.                                                                                                                                                                                61\n",
       "GetPhoneNumberIntent Mi spiace, non lo so. Per ora posso cercare numeri di telefono, orari e indirizzi.                                                                                                                                                                             53\n",
       "GetAddressIntent Mi spiace, non lo so. Per ora posso cercare numeri di telefono, orari e indirizzi.                                                                                                                                                                                 43\n",
       "IsOpenIntent Mi spiace, non lo so. Per ora posso cercare numeri di telefono, orari e indirizzi.                                                                                                                                                                                     38\n",
       "GetPhoneNumberIntent Mmh. Non riconosco quel posto, ma mi sto impegnando per imparare di più su negozi e altri punti d'interesse locali.                                                                                                                                            38\n",
       "SearchPlaceIntent Mmh. Non riconosco quel posto, ma mi sto impegnando per imparare di più su negozi e altri punti d'interesse locali.                                                                                                                                               37\n",
       "GetOpeningTimeIntent Mmh. Non riconosco quel posto, ma mi sto impegnando per imparare di più su negozi e altri punti d'interesse locali.                                                                                                                                            35\n",
       "SearchPlaceIntent Mi spiace, non riesco ad aiutarti con questa richiesta.                                                                                                                                                                                                           34\n",
       "GetHoursIntent Mi spiace, non lo so. Per ora posso cercare numeri di telefono, orari e indirizzi.                                                                                                                                                                                   31\n",
       "SearchPlaceIntent Per cercare negozi o altri luoghi d'interesse locali, devi inserire il tuo indirizzo nelle impostazioni.                                                                                                                                                          25\n",
       "GetPlaceDetailsIntent Mi spiace, non lo so. Per ora posso cercare numeri di telefono, orari e indirizzi.                                                                                                                                                                            23\n",
       "GetAddressIntent Mmh. Non riconosco quel posto, ma mi sto impegnando per imparare di più su negozi e altri punti d'interesse locali.                                                                                                                                                23\n",
       "GetHoursIntent Mmh. Non riconosco quel posto, ma mi sto impegnando per imparare di più su negozi e altri punti d'interesse locali.                                                                                                                                                  22\n",
       "IsOpenIntent Mmh. Non riconosco quel posto, ma mi sto impegnando per imparare di più su negozi e altri punti d'interesse locali.                                                                                                                                                    20\n",
       "GetOpeningTimeIntent Mi spiace, non lo so. Per ora posso cercare numeri di telefono, orari e indirizzi.                                                                                                                                                                             19\n",
       "GetPhoneNumberIntent Per cercare negozi o altri luoghi d'interesse locali, devi inserire il tuo indirizzo nelle impostazioni.                                                                                                                                                       18\n",
       "GetClosingTimeIntent Mmh. Non riconosco quel posto, ma mi sto impegnando per imparare di più su negozi e altri punti d'interesse locali.                                                                                                                                            17\n",
       "IsClosedIntent Mi spiace, non lo so. Per ora posso cercare numeri di telefono, orari e indirizzi.                                                                                                                                                                                   14\n",
       "GetAddressIntent Per cercare negozi o altri luoghi d'interesse locali, devi inserire il tuo indirizzo nelle impostazioni.                                                                                                                                                           10\n",
       "GetOpeningTimeIntent Per cercare negozi o altri luoghi d'interesse locali, devi inserire il tuo indirizzo nelle impostazioni.                                                                                                                                                       10\n",
       "GetPhoneNumberIntent Il numero di telefono di uno dei Ufficio Postale Santa Margherita Ligure trovati, in Via Dell' Arco, 40 a Santa Margherita Ligure, è 0185294751.                                                                                                                9\n",
       "IsOpenIntent Per cercare negozi o altri luoghi d'interesse locali, devi inserire il tuo indirizzo nelle impostazioni.                                                                                                                                                                8\n",
       "GetClosingTimeIntent Mi spiace, non lo so. Per ora posso cercare numeri di telefono, orari e indirizzi.                                                                                                                                                                              8\n",
       "GetOpeningTimeIntent Gli orari di apertura di Le Papere di Quattrocchi Alberici Negozio di Abbigliamento Bambini 0 12 in Via Raffaello Sanzio 30, a Milano, non sono disponibili.                                                                                                    6\n",
       "IsOpenIntent Mi spiace, non sono riuscita a trovare una tale attività aperta in questo momento.                                                                                                                                                                                      6\n",
       "SearchPlaceIntent Mi spiace, non sono riuscita a trovare una tale attività aperta in questo momento.                                                                                                                                                                                 6\n",
       "GetPlaceDetailsIntent Mmh. Non riconosco quel posto, ma mi sto impegnando per imparare di più su negozi e altri punti d'interesse locali.                                                                                                                                            5\n",
       "SearchPlaceIntent Non sono ancora in grado di cercare informazioni sull'albergo, ma mi sto impegnando per aggiungere più negozi e altri punti d'interesse locali.                                                                                                                    5\n",
       "GetHoursIntent Mi spiace, gli orari di apertura per questo locale non sono disponibili.                                                                                                                                                                                              5\n",
       "SearchPlaceIntent Ecco alcuni dei centri commerciali a caserta: uno, il Mi & Ro Srl, due, lo Strass &Amp; Infinity, tre, il De Canditiis Carlo, e quattro, l'Ottica Farina Bartolomeo.                                                                                               4\n",
       "                                                                                                                                                                                                                                                                                    ..\n",
       "GetHoursIntent In base al traffico attuale, per andare da Varese a Milano, impiegherai circa un’ora e 15 minuti.                                                                                                                                                                     1\n",
       "GetHoursIntent Gli orari di apertura di Hollywood Rent Autonoleggio in Piazza Cavour, 12, a Catania, non sono disponibili.                                                                                                                                                           1\n",
       "SearchPlaceIntent Il numero di telefono di uno dei Qss Turati SRL Servizio Clienti Laboratorio Fotografico Digitale trovati, in Via Filippo Turati 3 a Milano, è 026598408.                                                                                                          1\n",
       "GetPhoneNumberIntent Non sono ancora in grado di cercare informazioni sul farmacie, ma mi sto impegnando per aggiungere più negozi e altri punti d'interesse locali.                                                                                                                 1\n",
       "SearchPlaceIntent L'Intesa Sanpaolo - Agenzia San Giorgio su Legnano in Via Roma, 15 a San Giorgio Su Legnano dovrebbe aprire tra 1 minuto.                                                                                                                                          1\n",
       "GetHoursIntent Ecco alcuni delle pizzerie più vicine: uno, il Piccolo Paradiso, due, il Pizzeria Napoletana da Paolo, tre, il Metropoli, e quattro, il Pizzeria Vesuvio.                                                                                                             1\n",
       "IsOpenIntent Una delle attività trovate si chiama Farmacia Bindi, in Via Giovanni Pascoli, 2 a Sovicille. Questa attività dovrebbe essere chiusa, ma sarà aperta domani tutto il giorno.                                                                                             1\n",
       "SearchPlaceIntent Ecco alcuni delle pizzerie più vicine: uno, il La Quercia, due, il Cala dei Longobardi SNC, tre, il Pizzeria La Gioconda, e quattro, il Pazzasy- Termoli.                                                                                                          1\n",
       "GetPhoneNumberIntent Carrefour in Corso Savona 69, a Moncalieri, chiude oggi alle 19:00.                                                                                                                                                                                             1\n",
       "GetAddressIntent Ecco l'indirizzo di uno dei ristorante trovati, Vista Sky Bar by Hotel Mediterraneo Sorrento: Corso M. Crawford, 80065 Sant'Agnello Napoli. Mi spiace, gli orari di apertura per questo locale non sono disponibili.                                                1\n",
       "GetPhoneNumberIntent Una delle attività più vicini trovate si chiama Farmacia Rossi del Dottor Alfredo Rossi Antica Farmacia Rossi di Rossi Antonio & Lucia S.n.c., in Piazza Garibaldi Giuseppe, 11 a Fermignano. Oggi questa attività dovrebbe essere aperta tutto il giorno.      1\n",
       "SearchPlaceIntent Una delle biblioteche trovate si chiama Biblioteca Comunale, in Via Giuseppe Mazzini, 68, ad Albino ma l'orario di chiusura non è disponibile.                                                                                                                     1\n",
       "SearchPlaceIntent Ecco alcuni dei centri commerciali a milano: uno, l'Armeria il gatto e la volpe, due, il Gatto Nero Gatto Bianco Srl, tre, l'Il Gatto con Gli Stivali, e quattro, il Davide Gatto Milano.                                                                          1\n",
       "SearchPlaceIntent Gli orari di apertura di Farmagricola - Amici Pet&Co.-Jump&Ridestore La Zootecnica Group S.p.a. in Via Fiume Lambro, 3, a San Donato Milanese, non sono disponibili.                                                                                               1\n",
       "GetOpeningTimeIntent L'I Gigli in Via San Quirico 165 a Campi Bisenzio chiude stasera alle 22:00.                                                                                                                                                                                    1\n",
       "SearchPlaceIntent Ho trovato un Poste Italiane. Dista 3,1 chilometri in Via Martinengo, 33, a Bassano Bresciano. Mi spiace, gli orari di apertura per questo locale non sono disponibili.                                                                                            1\n",
       "GetOpeningTimeIntent Ecco l'indirizzo di una delle attività trovate, Roma Basilio: Via Casilina, 32, 00030 San Cesareo RM. Mi spiace, gli orari di apertura per questo locale non sono disponibili.                                                                                  1\n",
       "GetPlaceDetailsIntent Ecco alcuni delle attività a san benedetto del tronto: uno, il Pianozero, due, il Tempo di Sole, tre, il Domingo, e quattro, l'Hotel Zampillo.                                                                                                                 1\n",
       "IsOpenIntent Ecco una delle attività che si chiama Cas Car Auto Service Caruso Alberto. Dista 12,1 chilometri in Snc, Via Crocifisso Ritrovato, a Taormina. Mi spiace, gli orari di apertura per questo locale non sono disponibili.                                                 1\n",
       "GetPlaceDetailsIntent Ecco alcuni dei panifici a brescia: uno, l'Alpigusto Srl, due, il Sarica Food di Sarica Domenico, tre, il Panificio Lemayr S.r.l., e quattro, il Lekkerland Negozio Brescia San Faustino.                                                                      1\n",
       "GetClosingTimeIntent Ecco alcuni delle pizzerie più vicine: uno, il L'Altro Verso, due, il Rose Noir, tre, il Pizzeria Sant'anna, e quattro, il Pizzeria Oasi di Cannella Giovanna.                                                                                                  1\n",
       "SearchPlaceIntent Ecco alcuni dei panifici a brescia: uno, l'Alpigusto Srl, due, il Sarica Food di Sarica Domenico, tre, il Panificio Lemayr S.r.l., e quattro, il Lekkerland Negozio Brescia San Faustino.                                                                          1\n",
       "GetPhoneNumberIntent Ecco alcuni delle attività: uno, il Collina Del Sole, due, il Le Colline, tre, il B&B I due Pini, e quattro, l'A Casa di Amelì.                                                                                                                                 1\n",
       "IsOpenIntent Gli orari di apertura del Buosi in Via Baracca 20 a Venegono Superiore non è disponibile.                                                                                                                                                                               1\n",
       "GetPhoneNumberIntent Burger King in Piazza Adua, 4, a Firenze, chiude domani alle 00:00.                                                                                                                                                                                             1\n",
       "SearchPlaceIntent L'indirizzo di uno dei Palazzo Chigi trovati è Piazza Di Corte, 10, 00072 Ariccia RM. Questa attività dovrebbe essere chiusa, ma sarà aperta venerdì dalle 10:00 alle 19:00.                                                                                       1\n",
       "GetHoursIntent Ecco alcuni dei supermercato più vicini: uno, il Conad, due, l'Esselunga, tre, il Punto SUPERMERCATI GRANDI MAGAZZINI CENTRI COMMERCIALI, e quattro, l'Iper.                                                                                                          1\n",
       "IsOpenIntent Non trovo le informazioni sul tuo percorso. Per impostare il tuo indirizzo di casa e di lavoro, tocca la notifica che ho inviato all’App Alexa sul tuo telefono.                                                                                                        1\n",
       "SearchPlaceIntent Non sono ancora in grado di cercare informazioni sul bracciale dei gormiti, ma mi sto impegnando per aggiungere più negozi e altri punti d'interesse locali.                                                                                                       1\n",
       "IsOpenIntent Mi spiace, non riesco ad aiutarti con questa richiesta.                                                                                                                                                                                                                 1\n",
       "Name: TTS_Intent, Length: 1277, dtype: int64"
      ]
     },
     "execution_count": 16,
     "metadata": {},
     "output_type": "execute_result"
    }
   ],
   "source": [
    "#Looking at the answers in this bucket\n",
    "oth[\"TTS_Intent\"].value_counts()"
   ]
  },
  {
   "cell_type": "code",
   "execution_count": 17,
   "metadata": {},
   "outputs": [
    {
     "data": {
      "text/html": [
       "<div>\n",
       "<style scoped>\n",
       "    .dataframe tbody tr th:only-of-type {\n",
       "        vertical-align: middle;\n",
       "    }\n",
       "\n",
       "    .dataframe tbody tr th {\n",
       "        vertical-align: top;\n",
       "    }\n",
       "\n",
       "    .dataframe thead th {\n",
       "        text-align: right;\n",
       "    }\n",
       "</style>\n",
       "<table border=\"1\" class=\"dataframe\">\n",
       "  <thead>\n",
       "    <tr style=\"text-align: right;\">\n",
       "      <th></th>\n",
       "      <th>Audio Link</th>\n",
       "      <th>Decoder used</th>\n",
       "      <th>Date / Time</th>\n",
       "      <th>Transcription</th>\n",
       "      <th>Recognition</th>\n",
       "      <th>Diff</th>\n",
       "      <th>Annotated Domain</th>\n",
       "      <th>Annotated Intent</th>\n",
       "      <th>Annotated Slots</th>\n",
       "      <th>NLU Domain</th>\n",
       "      <th>...</th>\n",
       "      <th>desired_answer</th>\n",
       "      <th>NLU Slots</th>\n",
       "      <th>Score</th>\n",
       "      <th>TTS</th>\n",
       "      <th>TTS_Intent</th>\n",
       "      <th>Latitude</th>\n",
       "      <th>Longitude</th>\n",
       "      <th>Tessaract Link</th>\n",
       "      <th>includes</th>\n",
       "      <th>attribute</th>\n",
       "    </tr>\n",
       "    <tr>\n",
       "      <th>city</th>\n",
       "      <th></th>\n",
       "      <th></th>\n",
       "      <th></th>\n",
       "      <th></th>\n",
       "      <th></th>\n",
       "      <th></th>\n",
       "      <th></th>\n",
       "      <th></th>\n",
       "      <th></th>\n",
       "      <th></th>\n",
       "      <th></th>\n",
       "      <th></th>\n",
       "      <th></th>\n",
       "      <th></th>\n",
       "      <th></th>\n",
       "      <th></th>\n",
       "      <th></th>\n",
       "      <th></th>\n",
       "      <th></th>\n",
       "      <th></th>\n",
       "      <th></th>\n",
       "    </tr>\n",
       "  </thead>\n",
       "  <tbody>\n",
       "    <tr>\n",
       "      <th>44.73271</th>\n",
       "      <td>https://coldplay.amazon.com/datamart/content/a...</td>\n",
       "      <td>BgSLM</td>\n",
       "      <td>2019-08-13 18:47:36</td>\n",
       "      <td>a che ora chiude il negozio gazzotti sport di ...</td>\n",
       "      <td>a che ora chiude il negozio gazzotti sport di ...</td>\n",
       "      <td>,</td>\n",
       "      <td>LocalSearch</td>\n",
       "      <td>GetClosingTimeIntent</td>\n",
       "      <td>\"PlaceType: negozio\\nCity: reggio emilia\\nPlac...</td>\n",
       "      <td>LocalSearch</td>\n",
       "      <td>...</td>\n",
       "      <td>hours</td>\n",
       "      <td>\"City: reggio emilia\\nPlaceType: negozio\\nActi...</td>\n",
       "      <td>0.295040</td>\n",
       "      <td>Uno dei centri commerciali trovati si chiama G...</td>\n",
       "      <td>GetClosingTimeIntent Uno dei centri commercial...</td>\n",
       "      <td>10.57444</td>\n",
       "      <td>https://alexa-localsearch-tesseract.integ.amaz...</td>\n",
       "      <td>NaN</td>\n",
       "      <td>yes</td>\n",
       "      <td>NaN</td>\n",
       "    </tr>\n",
       "    <tr>\n",
       "      <th>Acqui Terme, Province of Alessandria, Italy</th>\n",
       "      <td>https://coldplay.amazon.com/datamart/content/a...</td>\n",
       "      <td>BgSLM</td>\n",
       "      <td>2019-07-05 21:34:16</td>\n",
       "      <td>orari [bg] di [bg] apertura del ristorante munsha</td>\n",
       "      <td>orari di apertura del ristorante muscia</td>\n",
       "      <td>-munsha, +muscia</td>\n",
       "      <td>LocalSearch</td>\n",
       "      <td>GetOpeningTimeIntent</td>\n",
       "      <td>\"PlaceName: ristorante munsha\\n\"</td>\n",
       "      <td>LocalSearch</td>\n",
       "      <td>...</td>\n",
       "      <td>hours</td>\n",
       "      <td>\"PlaceName: muscia\\nPlaceType: ristorante\\n\"</td>\n",
       "      <td>0.366545</td>\n",
       "      <td>Gli orari di apertura del Tomassini e Zangari ...</td>\n",
       "      <td>GetOpeningTimeIntent Gli orari di apertura del...</td>\n",
       "      <td>44.67410</td>\n",
       "      <td>8.4606</td>\n",
       "      <td>https://alexa-localsearch-tesseract.integ.amaz...</td>\n",
       "      <td>yes</td>\n",
       "      <td>NaN</td>\n",
       "    </tr>\n",
       "    <tr>\n",
       "      <th>Acqui Terme, Province of Alessandria, Italy</th>\n",
       "      <td>https://coldplay.amazon.com/datamart/content/a...</td>\n",
       "      <td>BgSLM</td>\n",
       "      <td>2019-07-05 21:34:16</td>\n",
       "      <td>orari [bg] di [bg] apertura del ristorante munsha</td>\n",
       "      <td>orari di apertura del ristorante muscia</td>\n",
       "      <td>-munsha, +muscia</td>\n",
       "      <td>LocalSearch</td>\n",
       "      <td>GetOpeningTimeIntent</td>\n",
       "      <td>\"PlaceName: ristorante munsha\\n\"</td>\n",
       "      <td>LocalSearch</td>\n",
       "      <td>...</td>\n",
       "      <td>hours</td>\n",
       "      <td>\"PlaceName: muscia\\nPlaceType: ristorante\\n\"</td>\n",
       "      <td>0.366545</td>\n",
       "      <td>Gli orari di apertura del Tomassini e Zangari ...</td>\n",
       "      <td>GetOpeningTimeIntent Gli orari di apertura del...</td>\n",
       "      <td>44.67410</td>\n",
       "      <td>8.4606</td>\n",
       "      <td>https://alexa-localsearch-tesseract.integ.amaz...</td>\n",
       "      <td>yes</td>\n",
       "      <td>NaN</td>\n",
       "    </tr>\n",
       "    <tr>\n",
       "      <th>Agliano Terme, Province of Asti, Italy</th>\n",
       "      <td>https://coldplay.amazon.com/datamart/content/a...</td>\n",
       "      <td>BgSLM</td>\n",
       "      <td>2019-07-17 09:53:33</td>\n",
       "      <td>dimmi i ristoranti che ci sono in zona</td>\n",
       "      <td>dim mi il ristorante che ci sono in zona</td>\n",
       "      <td>-dimmi-i-ristoranti, +dim+mi+il+ristorante</td>\n",
       "      <td>LocalSearch</td>\n",
       "      <td>GetPlaceListingsIntent</td>\n",
       "      <td>\"City: pisa\\nSpokenModeTrigger: dici\\nPlaceTyp...</td>\n",
       "      <td>LocalSearch</td>\n",
       "      <td>...</td>\n",
       "      <td>SearchPlaceIntent</td>\n",
       "      <td>\"City: pisa\\nSpokenModeTrigger: dici\\nPlaceTyp...</td>\n",
       "      <td>0.544537</td>\n",
       "      <td>Ecco alcuni dei ristoranti: uno, il Ristorante...</td>\n",
       "      <td>SearchPlaceIntent Ecco alcuni dei ristoranti: ...</td>\n",
       "      <td>44.78853</td>\n",
       "      <td>8.24955</td>\n",
       "      <td>https://alexa-localsearch-tesseract.integ.amaz...</td>\n",
       "      <td>no</td>\n",
       "      <td>NaN</td>\n",
       "    </tr>\n",
       "    <tr>\n",
       "      <th>Agliano Terme, Province of Asti, Italy</th>\n",
       "      <td>https://coldplay.amazon.com/datamart/content/a...</td>\n",
       "      <td>BgSLM</td>\n",
       "      <td>2019-07-17 09:53:33</td>\n",
       "      <td>dimmi i ristoranti che ci sono in zona</td>\n",
       "      <td>dim mi il ristorante che ci sono in zona</td>\n",
       "      <td>-dimmi-i-ristoranti, +dim+mi+il+ristorante</td>\n",
       "      <td>LocalSearch</td>\n",
       "      <td>GetPlaceListingsIntent</td>\n",
       "      <td>\"City: pisa\\nSpokenModeTrigger: dici\\nPlaceTyp...</td>\n",
       "      <td>LocalSearch</td>\n",
       "      <td>...</td>\n",
       "      <td>SearchPlaceIntent</td>\n",
       "      <td>\"City: pisa\\nSpokenModeTrigger: dici\\nPlaceTyp...</td>\n",
       "      <td>0.544537</td>\n",
       "      <td>Ecco alcuni dei ristoranti: uno, il Ristorante...</td>\n",
       "      <td>SearchPlaceIntent Ecco alcuni dei ristoranti: ...</td>\n",
       "      <td>44.78853</td>\n",
       "      <td>8.24955</td>\n",
       "      <td>https://alexa-localsearch-tesseract.integ.amaz...</td>\n",
       "      <td>no</td>\n",
       "      <td>NaN</td>\n",
       "    </tr>\n",
       "  </tbody>\n",
       "</table>\n",
       "<p>5 rows × 21 columns</p>\n",
       "</div>"
      ],
      "text/plain": [
       "                                                                                    Audio Link  \\\n",
       "city                                                                                             \n",
       "44.73271                                     https://coldplay.amazon.com/datamart/content/a...   \n",
       "Acqui Terme, Province of Alessandria, Italy  https://coldplay.amazon.com/datamart/content/a...   \n",
       "Acqui Terme, Province of Alessandria, Italy  https://coldplay.amazon.com/datamart/content/a...   \n",
       "Agliano Terme, Province of Asti, Italy       https://coldplay.amazon.com/datamart/content/a...   \n",
       "Agliano Terme, Province of Asti, Italy       https://coldplay.amazon.com/datamart/content/a...   \n",
       "\n",
       "                                            Decoder used          Date / Time  \\\n",
       "city                                                                            \n",
       "44.73271                                           BgSLM  2019-08-13 18:47:36   \n",
       "Acqui Terme, Province of Alessandria, Italy        BgSLM  2019-07-05 21:34:16   \n",
       "Acqui Terme, Province of Alessandria, Italy        BgSLM  2019-07-05 21:34:16   \n",
       "Agliano Terme, Province of Asti, Italy             BgSLM  2019-07-17 09:53:33   \n",
       "Agliano Terme, Province of Asti, Italy             BgSLM  2019-07-17 09:53:33   \n",
       "\n",
       "                                                                                 Transcription  \\\n",
       "city                                                                                             \n",
       "44.73271                                     a che ora chiude il negozio gazzotti sport di ...   \n",
       "Acqui Terme, Province of Alessandria, Italy  orari [bg] di [bg] apertura del ristorante munsha   \n",
       "Acqui Terme, Province of Alessandria, Italy  orari [bg] di [bg] apertura del ristorante munsha   \n",
       "Agliano Terme, Province of Asti, Italy                  dimmi i ristoranti che ci sono in zona   \n",
       "Agliano Terme, Province of Asti, Italy                  dimmi i ristoranti che ci sono in zona   \n",
       "\n",
       "                                                                                   Recognition  \\\n",
       "city                                                                                             \n",
       "44.73271                                     a che ora chiude il negozio gazzotti sport di ...   \n",
       "Acqui Terme, Province of Alessandria, Italy            orari di apertura del ristorante muscia   \n",
       "Acqui Terme, Province of Alessandria, Italy            orari di apertura del ristorante muscia   \n",
       "Agliano Terme, Province of Asti, Italy                dim mi il ristorante che ci sono in zona   \n",
       "Agliano Terme, Province of Asti, Italy                dim mi il ristorante che ci sono in zona   \n",
       "\n",
       "                                                                                   Diff  \\\n",
       "city                                                                                      \n",
       "44.73271                                                                             ,    \n",
       "Acqui Terme, Province of Alessandria, Italy                            -munsha, +muscia   \n",
       "Acqui Terme, Province of Alessandria, Italy                            -munsha, +muscia   \n",
       "Agliano Terme, Province of Asti, Italy       -dimmi-i-ristoranti, +dim+mi+il+ristorante   \n",
       "Agliano Terme, Province of Asti, Italy       -dimmi-i-ristoranti, +dim+mi+il+ristorante   \n",
       "\n",
       "                                            Annotated Domain  \\\n",
       "city                                                           \n",
       "44.73271                                         LocalSearch   \n",
       "Acqui Terme, Province of Alessandria, Italy      LocalSearch   \n",
       "Acqui Terme, Province of Alessandria, Italy      LocalSearch   \n",
       "Agliano Terme, Province of Asti, Italy           LocalSearch   \n",
       "Agliano Terme, Province of Asti, Italy           LocalSearch   \n",
       "\n",
       "                                                   Annotated Intent  \\\n",
       "city                                                                  \n",
       "44.73271                                       GetClosingTimeIntent   \n",
       "Acqui Terme, Province of Alessandria, Italy    GetOpeningTimeIntent   \n",
       "Acqui Terme, Province of Alessandria, Italy    GetOpeningTimeIntent   \n",
       "Agliano Terme, Province of Asti, Italy       GetPlaceListingsIntent   \n",
       "Agliano Terme, Province of Asti, Italy       GetPlaceListingsIntent   \n",
       "\n",
       "                                                                               Annotated Slots  \\\n",
       "city                                                                                             \n",
       "44.73271                                     \"PlaceType: negozio\\nCity: reggio emilia\\nPlac...   \n",
       "Acqui Terme, Province of Alessandria, Italy                   \"PlaceName: ristorante munsha\\n\"   \n",
       "Acqui Terme, Province of Alessandria, Italy                   \"PlaceName: ristorante munsha\\n\"   \n",
       "Agliano Terme, Province of Asti, Italy       \"City: pisa\\nSpokenModeTrigger: dici\\nPlaceTyp...   \n",
       "Agliano Terme, Province of Asti, Italy       \"City: pisa\\nSpokenModeTrigger: dici\\nPlaceTyp...   \n",
       "\n",
       "                                              NLU Domain  ...  \\\n",
       "city                                                      ...   \n",
       "44.73271                                     LocalSearch  ...   \n",
       "Acqui Terme, Province of Alessandria, Italy  LocalSearch  ...   \n",
       "Acqui Terme, Province of Alessandria, Italy  LocalSearch  ...   \n",
       "Agliano Terme, Province of Asti, Italy       LocalSearch  ...   \n",
       "Agliano Terme, Province of Asti, Italy       LocalSearch  ...   \n",
       "\n",
       "                                                desired_answer  \\\n",
       "city                                                             \n",
       "44.73271                                                 hours   \n",
       "Acqui Terme, Province of Alessandria, Italy              hours   \n",
       "Acqui Terme, Province of Alessandria, Italy              hours   \n",
       "Agliano Terme, Province of Asti, Italy       SearchPlaceIntent   \n",
       "Agliano Terme, Province of Asti, Italy       SearchPlaceIntent   \n",
       "\n",
       "                                                                                     NLU Slots  \\\n",
       "city                                                                                             \n",
       "44.73271                                     \"City: reggio emilia\\nPlaceType: negozio\\nActi...   \n",
       "Acqui Terme, Province of Alessandria, Italy       \"PlaceName: muscia\\nPlaceType: ristorante\\n\"   \n",
       "Acqui Terme, Province of Alessandria, Italy       \"PlaceName: muscia\\nPlaceType: ristorante\\n\"   \n",
       "Agliano Terme, Province of Asti, Italy       \"City: pisa\\nSpokenModeTrigger: dici\\nPlaceTyp...   \n",
       "Agliano Terme, Province of Asti, Italy       \"City: pisa\\nSpokenModeTrigger: dici\\nPlaceTyp...   \n",
       "\n",
       "                                                Score  \\\n",
       "city                                                    \n",
       "44.73271                                     0.295040   \n",
       "Acqui Terme, Province of Alessandria, Italy  0.366545   \n",
       "Acqui Terme, Province of Alessandria, Italy  0.366545   \n",
       "Agliano Terme, Province of Asti, Italy       0.544537   \n",
       "Agliano Terme, Province of Asti, Italy       0.544537   \n",
       "\n",
       "                                                                                           TTS  \\\n",
       "city                                                                                             \n",
       "44.73271                                     Uno dei centri commerciali trovati si chiama G...   \n",
       "Acqui Terme, Province of Alessandria, Italy  Gli orari di apertura del Tomassini e Zangari ...   \n",
       "Acqui Terme, Province of Alessandria, Italy  Gli orari di apertura del Tomassini e Zangari ...   \n",
       "Agliano Terme, Province of Asti, Italy       Ecco alcuni dei ristoranti: uno, il Ristorante...   \n",
       "Agliano Terme, Province of Asti, Italy       Ecco alcuni dei ristoranti: uno, il Ristorante...   \n",
       "\n",
       "                                                                                    TTS_Intent  \\\n",
       "city                                                                                             \n",
       "44.73271                                     GetClosingTimeIntent Uno dei centri commercial...   \n",
       "Acqui Terme, Province of Alessandria, Italy  GetOpeningTimeIntent Gli orari di apertura del...   \n",
       "Acqui Terme, Province of Alessandria, Italy  GetOpeningTimeIntent Gli orari di apertura del...   \n",
       "Agliano Terme, Province of Asti, Italy       SearchPlaceIntent Ecco alcuni dei ristoranti: ...   \n",
       "Agliano Terme, Province of Asti, Italy       SearchPlaceIntent Ecco alcuni dei ristoranti: ...   \n",
       "\n",
       "                                             Latitude  \\\n",
       "city                                                    \n",
       "44.73271                                     10.57444   \n",
       "Acqui Terme, Province of Alessandria, Italy  44.67410   \n",
       "Acqui Terme, Province of Alessandria, Italy  44.67410   \n",
       "Agliano Terme, Province of Asti, Italy       44.78853   \n",
       "Agliano Terme, Province of Asti, Italy       44.78853   \n",
       "\n",
       "                                                                                     Longitude  \\\n",
       "city                                                                                             \n",
       "44.73271                                     https://alexa-localsearch-tesseract.integ.amaz...   \n",
       "Acqui Terme, Province of Alessandria, Italy                                             8.4606   \n",
       "Acqui Terme, Province of Alessandria, Italy                                             8.4606   \n",
       "Agliano Terme, Province of Asti, Italy                                                 8.24955   \n",
       "Agliano Terme, Province of Asti, Italy                                                 8.24955   \n",
       "\n",
       "                                                                                Tessaract Link  \\\n",
       "city                                                                                             \n",
       "44.73271                                                                                   NaN   \n",
       "Acqui Terme, Province of Alessandria, Italy  https://alexa-localsearch-tesseract.integ.amaz...   \n",
       "Acqui Terme, Province of Alessandria, Italy  https://alexa-localsearch-tesseract.integ.amaz...   \n",
       "Agliano Terme, Province of Asti, Italy       https://alexa-localsearch-tesseract.integ.amaz...   \n",
       "Agliano Terme, Province of Asti, Italy       https://alexa-localsearch-tesseract.integ.amaz...   \n",
       "\n",
       "                                            includes attribute  \n",
       "city                                                            \n",
       "44.73271                                         yes       NaN  \n",
       "Acqui Terme, Province of Alessandria, Italy      yes       NaN  \n",
       "Acqui Terme, Province of Alessandria, Italy      yes       NaN  \n",
       "Agliano Terme, Province of Asti, Italy            no       NaN  \n",
       "Agliano Terme, Province of Asti, Italy            no       NaN  \n",
       "\n",
       "[5 rows x 21 columns]"
      ]
     },
     "execution_count": 17,
     "metadata": {},
     "output_type": "execute_result"
    }
   ],
   "source": [
    "#Plotting by city\n",
    "utterances = utterances.set_index([\"city\"])\n",
    "utterances_index = utterances.sort_index()\n",
    "\n",
    "utterances_index.head()"
   ]
  },
  {
   "cell_type": "code",
   "execution_count": 18,
   "metadata": {},
   "outputs": [
    {
     "data": {
      "text/html": [
       "<div>\n",
       "<style scoped>\n",
       "    .dataframe tbody tr th:only-of-type {\n",
       "        vertical-align: middle;\n",
       "    }\n",
       "\n",
       "    .dataframe tbody tr th {\n",
       "        vertical-align: top;\n",
       "    }\n",
       "\n",
       "    .dataframe thead th {\n",
       "        text-align: right;\n",
       "    }\n",
       "</style>\n",
       "<table border=\"1\" class=\"dataframe\">\n",
       "  <thead>\n",
       "    <tr style=\"text-align: right;\">\n",
       "      <th></th>\n",
       "      <th>Audio Link</th>\n",
       "      <th>Decoder used</th>\n",
       "      <th>Date / Time</th>\n",
       "      <th>Transcription</th>\n",
       "      <th>Recognition</th>\n",
       "      <th>Diff</th>\n",
       "      <th>Annotated Domain</th>\n",
       "      <th>Annotated Intent</th>\n",
       "      <th>Annotated Slots</th>\n",
       "      <th>NLU Domain</th>\n",
       "      <th>...</th>\n",
       "      <th>desired_answer</th>\n",
       "      <th>NLU Slots</th>\n",
       "      <th>Score</th>\n",
       "      <th>TTS</th>\n",
       "      <th>TTS_Intent</th>\n",
       "      <th>Latitude</th>\n",
       "      <th>Longitude</th>\n",
       "      <th>Tessaract Link</th>\n",
       "      <th>includes</th>\n",
       "      <th>attribute</th>\n",
       "    </tr>\n",
       "    <tr>\n",
       "      <th>city</th>\n",
       "      <th></th>\n",
       "      <th></th>\n",
       "      <th></th>\n",
       "      <th></th>\n",
       "      <th></th>\n",
       "      <th></th>\n",
       "      <th></th>\n",
       "      <th></th>\n",
       "      <th></th>\n",
       "      <th></th>\n",
       "      <th></th>\n",
       "      <th></th>\n",
       "      <th></th>\n",
       "      <th></th>\n",
       "      <th></th>\n",
       "      <th></th>\n",
       "      <th></th>\n",
       "      <th></th>\n",
       "      <th></th>\n",
       "      <th></th>\n",
       "      <th></th>\n",
       "    </tr>\n",
       "  </thead>\n",
       "  <tbody>\n",
       "    <tr>\n",
       "      <th>Agliano Terme, Province of Asti, Italy</th>\n",
       "      <td>https://coldplay.amazon.com/datamart/content/a...</td>\n",
       "      <td>BgSLM</td>\n",
       "      <td>2019-07-17 09:53:33</td>\n",
       "      <td>dimmi i ristoranti che ci sono in zona</td>\n",
       "      <td>dim mi il ristorante che ci sono in zona</td>\n",
       "      <td>-dimmi-i-ristoranti, +dim+mi+il+ristorante</td>\n",
       "      <td>LocalSearch</td>\n",
       "      <td>GetPlaceListingsIntent</td>\n",
       "      <td>\"City: pisa\\nSpokenModeTrigger: dici\\nPlaceTyp...</td>\n",
       "      <td>LocalSearch</td>\n",
       "      <td>...</td>\n",
       "      <td>SearchPlaceIntent</td>\n",
       "      <td>\"City: pisa\\nSpokenModeTrigger: dici\\nPlaceTyp...</td>\n",
       "      <td>0.544537</td>\n",
       "      <td>Ecco alcuni dei ristoranti: uno, il Ristorante...</td>\n",
       "      <td>SearchPlaceIntent Ecco alcuni dei ristoranti: ...</td>\n",
       "      <td>44.788530</td>\n",
       "      <td>8.24955</td>\n",
       "      <td>https://alexa-localsearch-tesseract.integ.amaz...</td>\n",
       "      <td>no</td>\n",
       "      <td>NaN</td>\n",
       "    </tr>\n",
       "    <tr>\n",
       "      <th>Agliano Terme, Province of Asti, Italy</th>\n",
       "      <td>https://coldplay.amazon.com/datamart/content/a...</td>\n",
       "      <td>BgSLM</td>\n",
       "      <td>2019-07-17 09:53:33</td>\n",
       "      <td>dimmi i ristoranti che ci sono in zona</td>\n",
       "      <td>dim mi il ristorante che ci sono in zona</td>\n",
       "      <td>-dimmi-i-ristoranti, +dim+mi+il+ristorante</td>\n",
       "      <td>LocalSearch</td>\n",
       "      <td>GetPlaceListingsIntent</td>\n",
       "      <td>\"City: pisa\\nSpokenModeTrigger: dici\\nPlaceTyp...</td>\n",
       "      <td>LocalSearch</td>\n",
       "      <td>...</td>\n",
       "      <td>SearchPlaceIntent</td>\n",
       "      <td>\"City: pisa\\nSpokenModeTrigger: dici\\nPlaceTyp...</td>\n",
       "      <td>0.544537</td>\n",
       "      <td>Ecco alcuni dei ristoranti: uno, il Ristorante...</td>\n",
       "      <td>SearchPlaceIntent Ecco alcuni dei ristoranti: ...</td>\n",
       "      <td>44.788530</td>\n",
       "      <td>8.24955</td>\n",
       "      <td>https://alexa-localsearch-tesseract.integ.amaz...</td>\n",
       "      <td>no</td>\n",
       "      <td>NaN</td>\n",
       "    </tr>\n",
       "    <tr>\n",
       "      <th>Alba, Province of Cuneo, Italy</th>\n",
       "      <td>https://coldplay.amazon.com/datamart/content/a...</td>\n",
       "      <td>BgSLM</td>\n",
       "      <td>2019-07-09 21:13:18</td>\n",
       "      <td>un numero di telefono di amazon &lt;incidental&gt; &lt;ms&gt;</td>\n",
       "      <td>numero di telefono di amazon</td>\n",
       "      <td>-un,</td>\n",
       "      <td>LocalSearch</td>\n",
       "      <td>GetPlaceListingsIntent</td>\n",
       "      <td>\"Proximity: vicino\\nPlaceName: esselunga\\nAnap...</td>\n",
       "      <td>LocalSearch</td>\n",
       "      <td>...</td>\n",
       "      <td>SearchPlaceIntent</td>\n",
       "      <td>\"PlaceName: esselunga\\nLocationSortType: vicin...</td>\n",
       "      <td>0.521207</td>\n",
       "      <td>Il numero di telefono di uno dei Amazon Locker...</td>\n",
       "      <td>SearchPlaceIntent Il numero di telefono di uno...</td>\n",
       "      <td>44.686200</td>\n",
       "      <td>8.0325</td>\n",
       "      <td>https://alexa-localsearch-tesseract.integ.amaz...</td>\n",
       "      <td>no</td>\n",
       "      <td>NaN</td>\n",
       "    </tr>\n",
       "    <tr>\n",
       "      <th>Alba, Province of Cuneo, Italy</th>\n",
       "      <td>https://coldplay.amazon.com/datamart/content/a...</td>\n",
       "      <td>BgSLM</td>\n",
       "      <td>2019-07-09 21:13:18</td>\n",
       "      <td>un numero di telefono di amazon &lt;incidental&gt; &lt;ms&gt;</td>\n",
       "      <td>numero di telefono di amazon</td>\n",
       "      <td>-un,</td>\n",
       "      <td>LocalSearch</td>\n",
       "      <td>IsOpenIntent</td>\n",
       "      <td>\"PlaceType: farmacia\\n\"</td>\n",
       "      <td>LocalSearch</td>\n",
       "      <td>...</td>\n",
       "      <td>hours</td>\n",
       "      <td>\"PlaceType: farmacia\\n\"</td>\n",
       "      <td>0.521489</td>\n",
       "      <td>Il numero di telefono di uno dei Amazon Locker...</td>\n",
       "      <td>IsOpenIntent Il numero di telefono di uno dei ...</td>\n",
       "      <td>44.686200</td>\n",
       "      <td>8.0325</td>\n",
       "      <td>https://alexa-localsearch-tesseract.integ.amaz...</td>\n",
       "      <td>yes</td>\n",
       "      <td>NaN</td>\n",
       "    </tr>\n",
       "    <tr>\n",
       "      <th>Albese con Cassano, Province of Como, Italy</th>\n",
       "      <td>https://coldplay.amazon.com/datamart/content/a...</td>\n",
       "      <td>BgSLM</td>\n",
       "      <td>2019-08-01 08:37:00</td>\n",
       "      <td>a che ora apre il mediaworld di lipomo</td>\n",
       "      <td>a che ora apre il mediaworld di lipomo</td>\n",
       "      <td>,</td>\n",
       "      <td>LocalSearch</td>\n",
       "      <td>GetPhoneNumberIntent</td>\n",
       "      <td>\"City: montegrosso\\nPlaceName: ristorante cent...</td>\n",
       "      <td>LocalSearch</td>\n",
       "      <td>...</td>\n",
       "      <td>GetPhoneNumberIntent</td>\n",
       "      <td>\"StreetAddress: monte grosso\\nPlaceName: risto...</td>\n",
       "      <td>0.711276</td>\n",
       "      <td>Mmh. Non riconosco quel posto, ma mi sto impeg...</td>\n",
       "      <td>GetPhoneNumberIntent Mmh. Non riconosco quel p...</td>\n",
       "      <td>45.796083</td>\n",
       "      <td>9.16984238</td>\n",
       "      <td>https://alexa-localsearch-tesseract.integ.amaz...</td>\n",
       "      <td>no</td>\n",
       "      <td>NaN</td>\n",
       "    </tr>\n",
       "  </tbody>\n",
       "</table>\n",
       "<p>5 rows × 21 columns</p>\n",
       "</div>"
      ],
      "text/plain": [
       "                                                                                    Audio Link  \\\n",
       "city                                                                                             \n",
       "Agliano Terme, Province of Asti, Italy       https://coldplay.amazon.com/datamart/content/a...   \n",
       "Agliano Terme, Province of Asti, Italy       https://coldplay.amazon.com/datamart/content/a...   \n",
       "Alba, Province of Cuneo, Italy               https://coldplay.amazon.com/datamart/content/a...   \n",
       "Alba, Province of Cuneo, Italy               https://coldplay.amazon.com/datamart/content/a...   \n",
       "Albese con Cassano, Province of Como, Italy  https://coldplay.amazon.com/datamart/content/a...   \n",
       "\n",
       "                                            Decoder used          Date / Time  \\\n",
       "city                                                                            \n",
       "Agliano Terme, Province of Asti, Italy             BgSLM  2019-07-17 09:53:33   \n",
       "Agliano Terme, Province of Asti, Italy             BgSLM  2019-07-17 09:53:33   \n",
       "Alba, Province of Cuneo, Italy                     BgSLM  2019-07-09 21:13:18   \n",
       "Alba, Province of Cuneo, Italy                     BgSLM  2019-07-09 21:13:18   \n",
       "Albese con Cassano, Province of Como, Italy        BgSLM  2019-08-01 08:37:00   \n",
       "\n",
       "                                                                                 Transcription  \\\n",
       "city                                                                                             \n",
       "Agliano Terme, Province of Asti, Italy                  dimmi i ristoranti che ci sono in zona   \n",
       "Agliano Terme, Province of Asti, Italy                  dimmi i ristoranti che ci sono in zona   \n",
       "Alba, Province of Cuneo, Italy               un numero di telefono di amazon <incidental> <ms>   \n",
       "Alba, Province of Cuneo, Italy               un numero di telefono di amazon <incidental> <ms>   \n",
       "Albese con Cassano, Province of Como, Italy             a che ora apre il mediaworld di lipomo   \n",
       "\n",
       "                                                                          Recognition  \\\n",
       "city                                                                                    \n",
       "Agliano Terme, Province of Asti, Italy       dim mi il ristorante che ci sono in zona   \n",
       "Agliano Terme, Province of Asti, Italy       dim mi il ristorante che ci sono in zona   \n",
       "Alba, Province of Cuneo, Italy                           numero di telefono di amazon   \n",
       "Alba, Province of Cuneo, Italy                           numero di telefono di amazon   \n",
       "Albese con Cassano, Province of Como, Italy    a che ora apre il mediaworld di lipomo   \n",
       "\n",
       "                                                                                   Diff  \\\n",
       "city                                                                                      \n",
       "Agliano Terme, Province of Asti, Italy       -dimmi-i-ristoranti, +dim+mi+il+ristorante   \n",
       "Agliano Terme, Province of Asti, Italy       -dimmi-i-ristoranti, +dim+mi+il+ristorante   \n",
       "Alba, Province of Cuneo, Italy                                                    -un,    \n",
       "Alba, Province of Cuneo, Italy                                                    -un,    \n",
       "Albese con Cassano, Province of Como, Italy                                          ,    \n",
       "\n",
       "                                            Annotated Domain  \\\n",
       "city                                                           \n",
       "Agliano Terme, Province of Asti, Italy           LocalSearch   \n",
       "Agliano Terme, Province of Asti, Italy           LocalSearch   \n",
       "Alba, Province of Cuneo, Italy                   LocalSearch   \n",
       "Alba, Province of Cuneo, Italy                   LocalSearch   \n",
       "Albese con Cassano, Province of Como, Italy      LocalSearch   \n",
       "\n",
       "                                                   Annotated Intent  \\\n",
       "city                                                                  \n",
       "Agliano Terme, Province of Asti, Italy       GetPlaceListingsIntent   \n",
       "Agliano Terme, Province of Asti, Italy       GetPlaceListingsIntent   \n",
       "Alba, Province of Cuneo, Italy               GetPlaceListingsIntent   \n",
       "Alba, Province of Cuneo, Italy                         IsOpenIntent   \n",
       "Albese con Cassano, Province of Como, Italy    GetPhoneNumberIntent   \n",
       "\n",
       "                                                                               Annotated Slots  \\\n",
       "city                                                                                             \n",
       "Agliano Terme, Province of Asti, Italy       \"City: pisa\\nSpokenModeTrigger: dici\\nPlaceTyp...   \n",
       "Agliano Terme, Province of Asti, Italy       \"City: pisa\\nSpokenModeTrigger: dici\\nPlaceTyp...   \n",
       "Alba, Province of Cuneo, Italy               \"Proximity: vicino\\nPlaceName: esselunga\\nAnap...   \n",
       "Alba, Province of Cuneo, Italy                                         \"PlaceType: farmacia\\n\"   \n",
       "Albese con Cassano, Province of Como, Italy  \"City: montegrosso\\nPlaceName: ristorante cent...   \n",
       "\n",
       "                                              NLU Domain  ...  \\\n",
       "city                                                      ...   \n",
       "Agliano Terme, Province of Asti, Italy       LocalSearch  ...   \n",
       "Agliano Terme, Province of Asti, Italy       LocalSearch  ...   \n",
       "Alba, Province of Cuneo, Italy               LocalSearch  ...   \n",
       "Alba, Province of Cuneo, Italy               LocalSearch  ...   \n",
       "Albese con Cassano, Province of Como, Italy  LocalSearch  ...   \n",
       "\n",
       "                                                   desired_answer  \\\n",
       "city                                                                \n",
       "Agliano Terme, Province of Asti, Italy          SearchPlaceIntent   \n",
       "Agliano Terme, Province of Asti, Italy          SearchPlaceIntent   \n",
       "Alba, Province of Cuneo, Italy                  SearchPlaceIntent   \n",
       "Alba, Province of Cuneo, Italy                              hours   \n",
       "Albese con Cassano, Province of Como, Italy  GetPhoneNumberIntent   \n",
       "\n",
       "                                                                                     NLU Slots  \\\n",
       "city                                                                                             \n",
       "Agliano Terme, Province of Asti, Italy       \"City: pisa\\nSpokenModeTrigger: dici\\nPlaceTyp...   \n",
       "Agliano Terme, Province of Asti, Italy       \"City: pisa\\nSpokenModeTrigger: dici\\nPlaceTyp...   \n",
       "Alba, Province of Cuneo, Italy               \"PlaceName: esselunga\\nLocationSortType: vicin...   \n",
       "Alba, Province of Cuneo, Italy                                         \"PlaceType: farmacia\\n\"   \n",
       "Albese con Cassano, Province of Como, Italy  \"StreetAddress: monte grosso\\nPlaceName: risto...   \n",
       "\n",
       "                                                Score  \\\n",
       "city                                                    \n",
       "Agliano Terme, Province of Asti, Italy       0.544537   \n",
       "Agliano Terme, Province of Asti, Italy       0.544537   \n",
       "Alba, Province of Cuneo, Italy               0.521207   \n",
       "Alba, Province of Cuneo, Italy               0.521489   \n",
       "Albese con Cassano, Province of Como, Italy  0.711276   \n",
       "\n",
       "                                                                                           TTS  \\\n",
       "city                                                                                             \n",
       "Agliano Terme, Province of Asti, Italy       Ecco alcuni dei ristoranti: uno, il Ristorante...   \n",
       "Agliano Terme, Province of Asti, Italy       Ecco alcuni dei ristoranti: uno, il Ristorante...   \n",
       "Alba, Province of Cuneo, Italy               Il numero di telefono di uno dei Amazon Locker...   \n",
       "Alba, Province of Cuneo, Italy               Il numero di telefono di uno dei Amazon Locker...   \n",
       "Albese con Cassano, Province of Como, Italy  Mmh. Non riconosco quel posto, ma mi sto impeg...   \n",
       "\n",
       "                                                                                    TTS_Intent  \\\n",
       "city                                                                                             \n",
       "Agliano Terme, Province of Asti, Italy       SearchPlaceIntent Ecco alcuni dei ristoranti: ...   \n",
       "Agliano Terme, Province of Asti, Italy       SearchPlaceIntent Ecco alcuni dei ristoranti: ...   \n",
       "Alba, Province of Cuneo, Italy               SearchPlaceIntent Il numero di telefono di uno...   \n",
       "Alba, Province of Cuneo, Italy               IsOpenIntent Il numero di telefono di uno dei ...   \n",
       "Albese con Cassano, Province of Como, Italy  GetPhoneNumberIntent Mmh. Non riconosco quel p...   \n",
       "\n",
       "                                              Latitude   Longitude  \\\n",
       "city                                                                 \n",
       "Agliano Terme, Province of Asti, Italy       44.788530     8.24955   \n",
       "Agliano Terme, Province of Asti, Italy       44.788530     8.24955   \n",
       "Alba, Province of Cuneo, Italy               44.686200      8.0325   \n",
       "Alba, Province of Cuneo, Italy               44.686200      8.0325   \n",
       "Albese con Cassano, Province of Como, Italy  45.796083  9.16984238   \n",
       "\n",
       "                                                                                Tessaract Link  \\\n",
       "city                                                                                             \n",
       "Agliano Terme, Province of Asti, Italy       https://alexa-localsearch-tesseract.integ.amaz...   \n",
       "Agliano Terme, Province of Asti, Italy       https://alexa-localsearch-tesseract.integ.amaz...   \n",
       "Alba, Province of Cuneo, Italy               https://alexa-localsearch-tesseract.integ.amaz...   \n",
       "Alba, Province of Cuneo, Italy               https://alexa-localsearch-tesseract.integ.amaz...   \n",
       "Albese con Cassano, Province of Como, Italy  https://alexa-localsearch-tesseract.integ.amaz...   \n",
       "\n",
       "                                            includes attribute  \n",
       "city                                                            \n",
       "Agliano Terme, Province of Asti, Italy            no       NaN  \n",
       "Agliano Terme, Province of Asti, Italy            no       NaN  \n",
       "Alba, Province of Cuneo, Italy                    no       NaN  \n",
       "Alba, Province of Cuneo, Italy                   yes       NaN  \n",
       "Albese con Cassano, Province of Como, Italy       no       NaN  \n",
       "\n",
       "[5 rows x 21 columns]"
      ]
     },
     "execution_count": 18,
     "metadata": {},
     "output_type": "execute_result"
    }
   ],
   "source": [
    "#Bobbles 1\n",
    "df_city_middle = utterances_index.loc[utterances_index[\"Score\"] > .10]\n",
    "df_city_super = utterances_index.loc[utterances_index[\"Score\"] >= .50]\n",
    "df_city_not_bad = df_city_middle.loc[df_city_middle[\"Score\"] < .50]\n",
    "df_city_not_good = utterances_index.loc[utterances_index[\"Score\"] < 10]\n",
    "\n",
    "df_city_super.head()"
   ]
  },
  {
   "cell_type": "code",
   "execution_count": 19,
   "metadata": {},
   "outputs": [],
   "source": [
    "#bubbles\n",
    "super_bubbles = df_city_super[\"Score\"] * 5\n",
    "not_bad_bubbles = df_city_not_bad[\"Score\"] * 5\n",
    "not_good_bubbles = df_city_not_good[\"Score\"] * 5"
   ]
  },
  {
   "cell_type": "code",
   "execution_count": 20,
   "metadata": {},
   "outputs": [
    {
     "data": {
      "text/plain": [
       "Text(0, 0.5, 'Score by City:')"
      ]
     },
     "execution_count": 20,
     "metadata": {},
     "output_type": "execute_result"
    },
    {
     "data": {
      "image/png": "[encoded data removed]",
      "text/plain": [
       "<Figure size 432x288 with 1 Axes>"
      ]
     },
     "metadata": {
      "needs_background": "light"
     },
     "output_type": "display_data"
    }
   ],
   "source": [
    "#Graph\n",
    "super_graph = plt.scatter(oth_city, oth_mean, marker=\"o\", c='gold', edgecolors=\"black\", s=super_bubbles, alpha=0.75, label=\"super bugie by review\")\n",
    "not_bad_graph = plt.scatter(intent_city, intent_mean, marker=\"o\", c='lightskyblue', edgecolors=\"black\", s=not_bad_bubbles, alpha=0.75, label=\"Not Bad Bugie By review\")\n",
    "\n",
    "plt.ylim(0, 1.5)\n",
    "plt.xlim(0, 30)\n",
    "plt.grid(axis='both', alpha=0.5)\n",
    "plt.xlabel(\"This is the Average number of utterances per city\")\n",
    "plt.ylabel(\"Score by City:\")\n"
   ]
  },
  {
   "cell_type": "markdown",
   "metadata": {},
   "source": [
    "3) Here we are looking at the signals we can get from the words used in the questions. This could be word frequency, word patterns, etc."
   ]
  },
  {
   "cell_type": "code",
   "execution_count": 21,
   "metadata": {},
   "outputs": [
    {
     "data": {
      "text/plain": [
       "0           alexa c' è traffico sulla strada del lavoro\n",
       "1           alexa c' è traffico sulla strada del lavoro\n",
       "2                 orari agenzia delle entrate di merate\n",
       "3                           alexa informazioni traffico\n",
       "4                           alexa informazioni traffico\n",
       "5                                        alexa traffico\n",
       "6                                        alexa traffico\n",
       "7     cerca numero villaggio turistico capo vaticano...\n",
       "8     cerca numero villaggio turistico capo vaticano...\n",
       "10                a che ora apre il bennet di cornaredo\n",
       "Name: Recognition, dtype: object"
      ]
     },
     "execution_count": 21,
     "metadata": {},
     "output_type": "execute_result"
    }
   ],
   "source": [
    "#Looking at the questions used\n",
    "text_data_seriesb = oth[\"Recognition\"]\n",
    "text_data_seriesb.head(10)\n"
   ]
  },
  {
   "cell_type": "code",
   "execution_count": 22,
   "metadata": {},
   "outputs": [
    {
     "name": "stdout",
     "output_type": "stream",
     "text": [
      "               Non-intent\n",
      "Word                     \n",
      "alexa                 601\n",
      "numero                424\n",
      "qual                  307\n",
      "trova                 281\n",
      "telefono              278\n",
      "vicino                255\n",
      "ora                   226\n",
      "cerca                 187\n",
      "ristorante            178\n",
      "apre                  156\n",
      "orari                 136\n",
      "aperto                132\n",
      "pizzeria              131\n",
      "indirizzo             129\n",
      "farmacia              104\n",
      "dim                   102\n",
      "vicina                 98\n",
      "orario                 93\n",
      "via                    92\n",
      "aperta                 77\n",
      "apertura               74\n",
      "chiude                 68\n",
      "san                    61\n",
      "oggi                   59\n",
      "farmacie               58\n",
      "ristoranti             56\n",
      "quali                  53\n",
      "turno                  52\n",
      "dici                   52\n",
      "dam                    52\n",
      "...                   ...\n",
      "horror                  1\n",
      "vomero                  1\n",
      "samuele                 1\n",
      "simpli                  1\n",
      "petrocelli              1\n",
      "tardis                  1\n",
      "accendi                 1\n",
      "fermignano              1\n",
      "sanremo                 1\n",
      "anagrafe                1\n",
      "sassuolo                1\n",
      "rimini                  1\n",
      "marzabotto              1\n",
      "civici                  1\n",
      "elia                    1\n",
      "gemello                 1\n",
      "policlinico             1\n",
      "brignano                1\n",
      "postali                 1\n",
      "romagna                 1\n",
      "uffizi                  1\n",
      "cirié                   1\n",
      "comunale                1\n",
      "santarcangelo           1\n",
      "albino                  1\n",
      "arcisate                1\n",
      "fioraio                 1\n",
      "molazzana               1\n",
      "serravalle              1\n",
      "piacenza                1\n",
      "\n",
      "[1656 rows x 1 columns]\n"
     ]
    }
   ],
   "source": [
    "#\n",
    "\n",
    "RE_stopwords = r'\\b(?:{})\\b'.format('|'.join(stopwords))\n",
    "wordsb = (text_data_seriesb\n",
    "           .str.lower()\n",
    "           .replace([r'\\(','\\)','\\|','\\,','\\.','\\?','\\!','\\_','\\-','\\:','\\\"','\\*',\"\\'\", RE_stopwords], ['','','','','','','',' ','','','','','', ''], regex=True)\n",
    "           .str.cat(sep=' ')\n",
    "           .split()\n",
    ")\n",
    "\n",
    "# generate DF out of Counter\n",
    "rsltb = pd.DataFrame(Counter(wordsb).most_common(top_N),\n",
    "                    columns=['Word', 'Non-intent']).set_index('Word')\n",
    "print(rsltb)\n",
    "\n",
    "# plot\n",
    "#rslt.plot.bar(rot=0, figsize=(16,10), width=0.8)"
   ]
  },
  {
   "cell_type": "markdown",
   "metadata": {},
   "source": [
    "This is a mix of buckets, so most of the top words make sense, but not all of them.  Two of our top words are \"dim\"(part of the word \"dimmi\" or \"tell me\") and \"dam\"(part of the word \"dammi\" or \"give me\").  This tells us that our ASR is systematically separating those words into two sounds.  Those partial words occur in a large number of questions, so we need to make sure our models can understand that word separation and that no ranking errors are created.  We can also get an idea of distribution of questions between telephone, address, and hours in general.  The exact same code could be run on TTS to see if the two correspond, i.e. if the instances of key words denoting hours, and those that give hours are around the same in number and percentage of total utterances."
   ]
  },
  {
   "cell_type": "code",
   "execution_count": 23,
   "metadata": {},
   "outputs": [
    {
     "data": {
      "text/plain": [
       "9                 a che ora chiude il bussoleno\n",
       "19                  alexa il carrefour è aperto\n",
       "20    fra quanto tempo chiude il coin a brescia\n",
       "21    fra quanto tempo chiude il coin a brescia\n",
       "25         a che ora apre il conad di un minion\n",
       "26         a che ora apre il conad di un minion\n",
       "50                      orari decathlon vignate\n",
       "60                         alexa quando apre la\n",
       "61                         alexa quando apre la\n",
       "62                         alexa quando apre la\n",
       "Name: Recognition, dtype: object"
      ]
     },
     "execution_count": 23,
     "metadata": {},
     "output_type": "execute_result"
    }
   ],
   "source": [
    "text_data_seriesp = intent[\"Recognition\"]\n",
    "text_data_seriesp.head(10)"
   ]
  },
  {
   "cell_type": "markdown",
   "metadata": {},
   "source": [
    "As follows, we look at the most used words in a particular bucket"
   ]
  },
  {
   "cell_type": "code",
   "execution_count": 24,
   "metadata": {},
   "outputs": [
    {
     "name": "stdout",
     "output_type": "stream",
     "text": [
      "                     Word\n",
      "With_Intent              \n",
      "26                  alexa\n",
      "19                    ora\n",
      "17                   apre\n",
      "15                 aperto\n",
      "13                  orari\n",
      "11                   qual\n",
      "10               apertura\n",
      "10                 vicino\n",
      "9                  orario\n",
      "9                      me\n",
      "8                farmacia\n",
      "8                libreria\n",
      "8                  natale\n",
      "7                  chiude\n",
      "7                     dim\n",
      "6                  aperta\n",
      "5                    oggi\n",
      "4                  quando\n",
      "4                  centro\n",
      "4                  numero\n",
      "4                 firenze\n",
      "4                  aperte\n",
      "4                  chiusa\n",
      "3                 brescia\n",
      "3               indirizzo\n",
      "3                pizzeria\n",
      "3               trattoria\n",
      "3               esselunga\n",
      "3               vimercate\n",
      "3                   quali\n",
      "...                   ...\n",
      "1               panificio\n",
      "1               valentina\n",
      "1                    shop\n",
      "1                   villa\n",
      "1              mediaworld\n",
      "1                   lecco\n",
      "1               piccolino\n",
      "1              nottingham\n",
      "1                     old\n",
      "1                    wild\n",
      "1                    west\n",
      "1                  ancona\n",
      "1                  tigros\n",
      "1               gerenzano\n",
      "1                 ufficio\n",
      "1                     sai\n",
      "1                  aprono\n",
      "1                  scuole\n",
      "1            supermercato\n",
      "1                      lì\n",
      "1                    zona\n",
      "1                ospedale\n",
      "1               pontedera\n",
      "1                   notte\n",
      "1               pordenone\n",
      "1               discoteca\n",
      "1                astragon\n",
      "1                   borgo\n",
      "1                   banca\n",
      "1               gallarate\n",
      "\n",
      "[154 rows x 1 columns]\n"
     ]
    }
   ],
   "source": [
    "RE_stopwords = r'\\b(?:{})\\b'.format('|'.join(stopwords))\n",
    "# replace '|'-->' ' and drop all stopwords\n",
    "wordsp = (text_data_seriesp\n",
    "           .str.lower()\n",
    "           .replace([r'\\(','\\)','\\|','\\,','\\.','\\?','\\!','\\_','\\-','\\:','\\\"','\\*',\"\\'\", RE_stopwords], ['','','','','','','',' ','','','','','', ''], regex=True)\n",
    "           .str.cat(sep=' ')\n",
    "           .split()\n",
    ")\n",
    "\n",
    "# generate DF out of Counter\n",
    "rsltp = pd.DataFrame(Counter(wordsp).most_common(top_N),\n",
    "                    columns=['Word', 'With_Intent']).set_index('With_Intent')\n",
    "print(rsltp)\n",
    "\n",
    "# plot\n",
    "#rslt.plot.bar(rot=0, figsize=(16,10), width=0.8)"
   ]
  },
  {
   "cell_type": "code",
   "execution_count": 25,
   "metadata": {},
   "outputs": [
    {
     "name": "stdout",
     "output_type": "stream",
     "text": [
      "             Word  With_Intent\n",
      "0           alexa           26\n",
      "1             ora           19\n",
      "2            apre           17\n",
      "3          aperto           15\n",
      "4           orari           13\n",
      "5            qual           11\n",
      "6        apertura           10\n",
      "7          vicino           10\n",
      "8          orario            9\n",
      "9              me            9\n",
      "10       farmacia            8\n",
      "11       libreria            8\n",
      "12         natale            8\n",
      "13         chiude            7\n",
      "14            dim            7\n",
      "15         aperta            6\n",
      "16           oggi            5\n",
      "17         quando            4\n",
      "18         centro            4\n",
      "19         numero            4\n",
      "20        firenze            4\n",
      "21         aperte            4\n",
      "22         chiusa            4\n",
      "23        brescia            3\n",
      "24      indirizzo            3\n",
      "25       pizzeria            3\n",
      "26      trattoria            3\n",
      "27      esselunga            3\n",
      "28      vimercate            3\n",
      "29          quali            3\n",
      "..            ...          ...\n",
      "124     panificio            1\n",
      "125     valentina            1\n",
      "126          shop            1\n",
      "127         villa            1\n",
      "128    mediaworld            1\n",
      "129         lecco            1\n",
      "130     piccolino            1\n",
      "131    nottingham            1\n",
      "132           old            1\n",
      "133          wild            1\n",
      "134          west            1\n",
      "135        ancona            1\n",
      "136        tigros            1\n",
      "137     gerenzano            1\n",
      "138       ufficio            1\n",
      "139           sai            1\n",
      "140        aprono            1\n",
      "141        scuole            1\n",
      "142  supermercato            1\n",
      "143            lì            1\n",
      "144          zona            1\n",
      "145      ospedale            1\n",
      "146     pontedera            1\n",
      "147         notte            1\n",
      "148     pordenone            1\n",
      "149     discoteca            1\n",
      "150      astragon            1\n",
      "151         borgo            1\n",
      "152         banca            1\n",
      "153     gallarate            1\n",
      "\n",
      "[154 rows x 2 columns]\n"
     ]
    }
   ],
   "source": [
    "rsltp_2 = pd.DataFrame(Counter(wordsp).most_common(top_N),\n",
    "                    columns=['Word', 'With_Intent'])\n",
    "print(rsltp_2)"
   ]
  },
  {
   "cell_type": "markdown",
   "metadata": {},
   "source": [
    "Here we can see the most used words for asking about hours(hours, open, clossed, close, today, when, etc.), the most comman placeTypes(pharmacy, bookstore, etc.), and cities where they ask for hours the most and least(Florence, Brescia, etc.)"
   ]
  },
  {
   "cell_type": "code",
   "execution_count": 26,
   "metadata": {},
   "outputs": [
    {
     "name": "stdout",
     "output_type": "stream",
     "text": [
      "['gerenzano', 'new', 'vimercate', 'fra', 'central', 'brusson', 'rescaldina', 'random', 'toy', 'valeggio', 'ama', 'poggio', 'astragon', 'pordenone', 'borgo', 'maggio', 'contadino', 'audace', 'caronno', 'minion', 'ben', 'moulin', 'man', 'bussoleno', 'mincio', 'piccolino', 'pertusella', 'tedesco', 'cisalfa', 'renatico', 'lì', 'nottingham', 'primo', 'coin', 'lecco']\n"
     ]
    }
   ],
   "source": [
    "odd_word = list({s for s in wordsp if s not in wordsb})\n",
    "print(odd_word)\n"
   ]
  },
  {
   "cell_type": "code",
   "execution_count": 27,
   "metadata": {},
   "outputs": [
    {
     "name": "stdout",
     "output_type": "stream",
     "text": [
      "            Frequency\n",
      "Word                 \n",
      "gerenzano           1\n",
      "new                 1\n",
      "vimercate           1\n",
      "fra                 1\n",
      "central             1\n",
      "brusson             1\n",
      "rescaldina          1\n",
      "random              1\n",
      "toy                 1\n",
      "valeggio            1\n",
      "ama                 1\n",
      "poggio              1\n",
      "astragon            1\n",
      "pordenone           1\n",
      "borgo               1\n",
      "maggio              1\n",
      "contadino           1\n",
      "audace              1\n",
      "caronno             1\n",
      "minion              1\n",
      "ben                 1\n",
      "moulin              1\n",
      "man                 1\n",
      "bussoleno           1\n",
      "mincio              1\n",
      "piccolino           1\n",
      "pertusella          1\n",
      "tedesco             1\n",
      "cisalfa             1\n",
      "renatico            1\n",
      "lì                  1\n",
      "nottingham          1\n",
      "primo               1\n",
      "coin                1\n",
      "lecco               1\n"
     ]
    }
   ],
   "source": [
    "odd_wordres = pd.DataFrame(Counter(odd_word).most_common(top_N),\n",
    "                    columns=['Word', 'Frequency']).set_index('Word')\n",
    "print(odd_wordres)\n"
   ]
  },
  {
   "cell_type": "markdown",
   "metadata": {},
   "source": [
    "Conclusion of 2nd section: Some of these signals are useful and others are not.  The Product Managers need to make their needs clear in order to work backwards from their needs."
   ]
  },
  {
   "cell_type": "markdown",
   "metadata": {},
   "source": [
    "3) The third section is using NaiveBayes ML models to the same purpose, to bring out interesting signals from our data set, although much work would need to be done to get all of the parameters right. It would also be better to try with different types of models, nearest neighbor models for example.  Here, we principally use key words form questions to query in order to gage the predictive value of the words themselves. Our data set is small, just 2000 utterances, and this exercise is just exploratory in nature.\n"
   ]
  },
  {
   "cell_type": "code",
   "execution_count": 29,
   "metadata": {},
   "outputs": [
    {
     "name": "stdout",
     "output_type": "stream",
     "text": [
      "+--------------------+------------+-------------------+--------------------+--------------------+--------------------+----------------+--------------------+---------------+-----------+--------------------+--------------------+--------------------+------------------+--------------------+--------------------+--------------------+------------------+------------------+--------------------+\n",
      "|          Audio Link|Decoder used|        Date / Time|       Transcription|         Recognition|                Diff|Annotated Domain|    Annotated Intent|Annotated Slots| NLU Domain|              Intent|      desired_answer|           NLU Slots|             Score|                 TTS|          TTS_Intent|                city|          Latitude|         Longitude|      Tessaract Link|\n",
      "+--------------------+------------+-------------------+--------------------+--------------------+--------------------+----------------+--------------------+---------------+-----------+--------------------+--------------------+--------------------+------------------+--------------------+--------------------+--------------------+------------------+------------------+--------------------+\n",
      "|https://coldplay....|       BgSLM|2019-08-12 14:58:50|il burger king a ...|il burger king a ...|                -è, |     LocalSearch|GetPhoneNumberIntent|           \"\"\"\"|LocalSearch|GetPhoneNumberIntent|GetPhoneNumberIntent|qual|Other è|Othe...|               1.0|Burger King in Pi...|GetPhoneNumberInt...|Milan, Metropolit...|         45.493273|          9.156654|https://alexa-loc...|\n",
      "|https://coldplay....|       BgSLM|2019-08-11 09:44:33|[bg] [hn] che ris...|che ristoranti ci...|       -suono, +sono|     LocalSearch|GetPhoneNumberIntent|           \"\"\"\"|LocalSearch|GetPhoneNumberIntent|GetPhoneNumberIntent|trova|Other mi|Ot...|0.8733157880454608|Ecco alcuni dei r...|GetPhoneNumberInt...|Lazzate, Province...|       45.67521878|         9.0890883|https://alexa-loc...|\n",
      "|https://coldplay....|       Comms|2019-07-12 15:07:29|[bg] alexa qual è...|alexa qual è la p...|                  , |     LocalSearch|GetPhoneNumberIntent|           \"\"\"\"|LocalSearch|GetPhoneNumberIntent|GetPhoneNumberIntent|qual|Other è|Othe...|0.4052597447093634|Ecco alcuni dei r...|GetPhoneNumberInt...|San Giorgio di Pi...|       44.65103738|       11.37295269|https://alexa-loc...|\n",
      "|https://coldplay....|       BgSLM|2019-08-12 14:52:44|trova l'autogrill...|trova l' autogril...|-l'autogrill, +l'...|     LocalSearch|GetVoicePromptIntent|           \"\"\"\"|LocalSearch|   SearchPlaceIntent|   SearchPlaceIntent|dove|Other si|Oth...|               1.0|Ecco alcuni dei r...|SearchPlaceIntent...|Milan, Metropolit...|         45.493273|          9.156654|https://alexa-loc...|\n",
      "|https://coldplay....|       BgSLM|2019-08-14 15:16:07|dimmi un aeroport...|dim mi un aeropor...|     -dimmi, +dim+mi|     LocalSearch|    GetAddressIntent|           \"\"\"\"|LocalSearch|    GetAddressIntent|    GetAddressIntent|dam|Other mi|Othe...|               1.0|Ecco alcuni delle...|GetAddressIntent ...|Montodine, Provin...| 45.28114666666667| 9.711783333333331|https://alexa-loc...|\n",
      "|https://coldplay....|       BgSLM|2019-07-23 12:22:22|    mi fai il pranzo|    mi fai il pranzo|                  , |     LocalSearch|        IsOpenIntent|           \"\"\"\"|LocalSearch|   SearchPlaceIntent|   SearchPlaceIntent|mi|Other fai|Othe...|               1.0|Ecco alcuni delle...|SearchPlaceIntent...|Mira, Metropolita...|45.439870000000006|12.131240000000002|https://alexa-loc...|\n",
      "|https://coldplay....|       BgSLM|2019-07-23 12:22:22|    mi fai il pranzo|    mi fai il pranzo|                  , |     LocalSearch|        IsOpenIntent|           \"\"\"\"|LocalSearch|   SearchPlaceIntent|   SearchPlaceIntent|mi|Other fai|Othe...|               1.0|Ecco alcuni delle...|SearchPlaceIntent...|Mira, Metropolita...|45.439870000000006|12.131240000000002|https://alexa-loc...|\n",
      "|https://coldplay....|       Comms|2019-08-02 11:59:23|qual è la pizzeri...|qual è la pizzeri...|                  , |     LocalSearch|GetPhoneNumberIntent|           \"\"\"\"|LocalSearch|GetPhoneNumberIntent|GetPhoneNumberIntent|numero|Other di|O...|0.7420059811713521|Ecco alcuni delle...|GetPhoneNumberInt...|Villimpenta, Prov...|45.143750000000004|          11.03204|https://alexa-loc...|\n",
      "|https://coldplay....|       Comms|2019-08-12 15:05:06|fammi vedere l'in...|fam mi vedere l' ...|-fammi-l'indirizz...|     LocalSearch|GetPhoneNumberIntent|           \"\"\"\"|LocalSearch|GetPhoneNumberIntent|GetPhoneNumberIntent|      telefono|Other|               1.0|Ecco l'indirizzo ...|GetPhoneNumberInt...|Milan, Metropolit...|         45.493273|          9.156654|https://alexa-loc...|\n",
      "|https://coldplay....|       BgSLM|2019-08-14 19:48:58|dove si trova il ...|dove si trova il ...|                  , |     LocalSearch|    GetAddressIntent|           \"\"\"\"|LocalSearch|    GetAddressIntent|    GetAddressIntent|qual|Other è|Othe...|               1.0|Ecco l'indirizzo ...|GetAddressIntent ...|Sant'Agnello NA, ...| 40.63304224488277|14.391566788777183|https://alexa-loc...|\n",
      "|https://coldplay....|       BgSLM|2019-08-15 00:12:15|qual è l'orario d...|qual è l' orario ...|-l'orario-dell'es...|     LocalSearch|    GetAddressIntent|           \"\"\"\"|LocalSearch|    GetAddressIntent|    GetAddressIntent|dam|Other mi|Othe...|               1.0|Esselunga in Vial...|GetAddressIntent ...|Borgomanero, Prov...|         45.681915| 8.481048333333332|https://alexa-loc...|\n",
      "|https://coldplay....|       BgSLM|2019-08-12 14:59:32|per quanto è anco...|per quanto è anco...|                  , |     LocalSearch|GetPhoneNumberIntent|           \"\"\"\"|LocalSearch|GetPhoneNumberIntent|GetPhoneNumberIntent|qual|Other è|Othe...|               1.0|Faro in Via Roma ...|GetPhoneNumberInt...|Milan, Metropolit...|         45.493273|          9.156654|https://alexa-loc...|\n",
      "|https://coldplay....|       BgSLM|2019-07-19 09:34:59|quali sono gli or...|quali sono gli or...|                  , |     LocalSearch|    GetAddressIntent|           \"\"\"\"|LocalSearch|    GetAddressIntent|    GetAddressIntent|     indirizzo|Other|0.6684090570904345|Gli orari di aper...|GetAddressIntent ...|Rome, Metropolita...|           41.8561|           12.4665|https://alexa-loc...|\n",
      "|https://coldplay....|       BgSLM|2019-08-12 01:05:30|orari supermercat...|orari supermercat...|                  , |     LocalSearch|GetPhoneNumberIntent|           \"\"\"\"|LocalSearch|GetPhoneNumberIntent|GetPhoneNumberIntent|qual|Other è|Othe...|0.8910971840210367|Gli orari di aper...|GetPhoneNumberInt...|Valtriano, Provin...|       43.60816574|       10.51134414|https://alexa-loc...|\n",
      "|https://coldplay....|       BgSLM|2019-07-18 00:05:19|fino a che ora è ...|fino a che ora è ...|     -l'obi, +l'+obi|     LocalSearch|    GetAddressIntent|           \"\"\"\"|LocalSearch|    GetAddressIntent|    GetAddressIntent|     indirizzo|Other|0.6684090570904345|Ho trovato un Obi...|GetAddressIntent ...|Rivoli, Metropoli...|           45.0691|            7.5246|https://alexa-loc...|\n",
      "|https://coldplay....|       BgSLM|2019-08-12 15:16:00|qual è il numero ...|qual è il numero ...|                  , |     LocalSearch|    GetAddressIntent|           \"\"\"\"|LocalSearch|    GetAddressIntent|    GetAddressIntent|qual|Other è|Othe...|               1.0|Il numero di tele...|GetAddressIntent ...|Milan, Metropolit...|         45.493273|          9.156654|https://alexa-loc...|\n",
      "|https://coldplay....|       Comms|2019-08-12 14:37:44|qual è il numero ...|qual è il numero ...|                  , |     LocalSearch|        IsOpenIntent|           \"\"\"\"|LocalSearch|    GetTrafficIntent|    GetTrafficIntent|      traffico|Other|0.9887140464962024|Il numero di tele...|GetTrafficIntent ...|Milan, Metropolit...|         45.493273|          9.156654|https://alexa-loc...|\n",
      "|https://coldplay....|       Comms|2019-08-12 14:38:33|qual è il numero ...|qual è il numero ...|                  , |     LocalSearch|        IsOpenIntent|           \"\"\"\"|LocalSearch|    GetTrafficIntent|    GetTrafficIntent|      traffico|Other|0.9887140464962024|Il numero di tele...|GetTrafficIntent ...|Milan, Metropolit...|         45.493273|          9.156654|https://alexa-loc...|\n",
      "|https://coldplay....|       BgSLM|2019-08-12 14:41:02|hai il numero di ...|hai il numero di ...|                  , |     LocalSearch|        IsOpenIntent|           \"\"\"\"|LocalSearch|    GetTrafficIntent|    GetTrafficIntent|com'|Other è|Othe...|              0.99|Il numero di tele...|GetTrafficIntent ...|Milan, Metropolit...|         45.493273|          9.156654|https://alexa-loc...|\n",
      "|https://coldplay....|       BgSLM|2019-08-12 14:40:25|qual è il numero ...|qual è il numero ...|                  , |     LocalSearch|        IsOpenIntent|           \"\"\"\"|LocalSearch|    GetTrafficIntent|    GetTrafficIntent|com'|Other è|Othe...|              0.99|Il numero di tele...|GetTrafficIntent ...|Milan, Metropolit...|         45.493273|          9.156654|https://alexa-loc...|\n",
      "+--------------------+------------+-------------------+--------------------+--------------------+--------------------+----------------+--------------------+---------------+-----------+--------------------+--------------------+--------------------+------------------+--------------------+--------------------+--------------------+------------------+------------------+--------------------+\n",
      "only showing top 20 rows\n",
      "\n"
     ]
    }
   ],
   "source": [
    "from pyspark.context import SparkContext\n",
    "from pyspark.sql.session import SparkSession\n",
    "try:\n",
    "    sc\n",
    "    spark\n",
    "except NameError:\n",
    "    sc = SparkContext('local')\n",
    "    spark = SparkSession(sc)\n",
    "\n",
    "from pyspark import SparkFiles\n",
    "# url =\"https://s3.amazonaws.com/dataviz-curriculum/day_2/yelp_reviews.csv\"\n",
    "# spark.sparkContext.addFile(url)\n",
    "Intent = spark.read.csv(\"tool_testing.csv\", sep=\",\", header=True)\n",
    "Intent = Intent.na.drop(subset=[\"Recognition\", \"Score\"])\n",
    "# stars = stars.sample(False, 0.1, 0)\n",
    "\n",
    "# Show DataFrame\n",
    "Intent.show()"
   ]
  },
  {
   "cell_type": "code",
   "execution_count": 30,
   "metadata": {},
   "outputs": [],
   "source": [
    "import pyspark\n",
    "from pyspark.sql import SparkSession\n",
    "spark = SparkSession.builder.appName('pandasToSparkDF').getOrCreate()\n",
    "from pyspark.sql.types import *\n",
    "\n",
    "mySchema = StructType([ StructField(\"Recognition\", StringType(), True)\\\n",
    "                       ,StructField(\"length\", IntegerType(), True)])"
   ]
  },
  {
   "cell_type": "code",
   "execution_count": 31,
   "metadata": {},
   "outputs": [
    {
     "data": {
      "text/plain": [
       "pyspark.sql.dataframe.DataFrame"
      ]
     },
     "execution_count": 31,
     "metadata": {},
     "output_type": "execute_result"
    }
   ],
   "source": [
    "Words_df = spark.createDataFrame(rsltp_2,schema=mySchema)\n",
    "type(Words_df)"
   ]
  },
  {
   "cell_type": "code",
   "execution_count": 32,
   "metadata": {},
   "outputs": [
    {
     "name": "stdout",
     "output_type": "stream",
     "text": [
      "+-----------+------+\n",
      "|Recognition|length|\n",
      "+-----------+------+\n",
      "|      alexa|    26|\n",
      "|        ora|    19|\n",
      "|       apre|    17|\n",
      "|     aperto|    15|\n",
      "|      orari|    13|\n",
      "|       qual|    11|\n",
      "|   apertura|    10|\n",
      "|     vicino|    10|\n",
      "|     orario|     9|\n",
      "|         me|     9|\n",
      "|   farmacia|     8|\n",
      "|   libreria|     8|\n",
      "|     natale|     8|\n",
      "|     chiude|     7|\n",
      "|        dim|     7|\n",
      "|     aperta|     6|\n",
      "|       oggi|     5|\n",
      "|     quando|     4|\n",
      "|     centro|     4|\n",
      "|     numero|     4|\n",
      "+-----------+------+\n",
      "only showing top 20 rows\n",
      "\n"
     ]
    }
   ],
   "source": [
    "Words_df.show()"
   ]
  },
  {
   "cell_type": "code",
   "execution_count": 33,
   "metadata": {},
   "outputs": [
    {
     "name": "stdout",
     "output_type": "stream",
     "text": [
      "+-----------+------+--------+\n",
      "|Recognition|length|   class|\n",
      "+-----------+------+--------+\n",
      "|      alexa|    26|positive|\n",
      "|        ora|    19|positive|\n",
      "|       apre|    17|positive|\n",
      "|     aperto|    15|positive|\n",
      "|      orari|    13|positive|\n",
      "|       qual|    11|positive|\n",
      "|   apertura|    10|positive|\n",
      "|     vicino|    10|positive|\n",
      "|     orario|     9|positive|\n",
      "|         me|     9|positive|\n",
      "|   farmacia|     8|positive|\n",
      "|   libreria|     8|positive|\n",
      "|     natale|     8|positive|\n",
      "|     chiude|     7|positive|\n",
      "|        dim|     7|positive|\n",
      "|     aperta|     6|positive|\n",
      "|       oggi|     5|negative|\n",
      "|     quando|     4|negative|\n",
      "|     centro|     4|negative|\n",
      "|     numero|     4|negative|\n",
      "+-----------+------+--------+\n",
      "only showing top 20 rows\n",
      "\n"
     ]
    }
   ],
   "source": [
    "from pyspark.sql.functions import length\n",
    "# # Create a length column to be used as a future feature \n",
    "Intent = Intent.withColumn('length', length(Intent['Recognition']))\n",
    "# data_df.show()\n",
    "import pyspark.sql.functions as func\n",
    "# means = df.groupby(\"id\").agg(func.mean(\"col1\"))\n",
    "from pyspark.sql.functions import col, expr, when\n",
    "\n",
    "Intent_words = Words_df.withColumn(\n",
    "    'class', when((col(\"length\") > '5'), 'positive')\n",
    "    .otherwise(\"negative\")\n",
    ")\n",
    "Intent_words.show()"
   ]
  },
  {
   "cell_type": "code",
   "execution_count": 34,
   "metadata": {},
   "outputs": [],
   "source": [
    "Intent_df = Intent.withColumn(\n",
    "    'class', when((col(\"Recognition\") == col(\"Transcription\")), 'positive')\n",
    "    .otherwise(\"negative\")\n",
    ")"
   ]
  },
  {
   "cell_type": "code",
   "execution_count": 35,
   "metadata": {},
   "outputs": [],
   "source": [
    "# hours.head()"
   ]
  },
  {
   "cell_type": "code",
   "execution_count": 36,
   "metadata": {},
   "outputs": [],
   "source": [
    "from pyspark.ml.feature import Tokenizer, StopWordsRemover, HashingTF, IDF, StringIndexer\n",
    "# Create all the features to the data set\n",
    "pos_neg_to_num = StringIndexer(inputCol='class',outputCol='label')\n",
    "tokenizer = Tokenizer(inputCol=\"Recognition\", outputCol=\"token_text\")\n",
    "stopremove = set(\"Italian\") \n",
    "stopremove = StopWordsRemover(inputCol='token_text',outputCol='stop_tokens')\n",
    "hashingTF = HashingTF(inputCol=\"token_text\", outputCol='hash_token')\n",
    "idf = IDF(inputCol='hash_token', outputCol='idf_token')\n"
   ]
  },
  {
   "cell_type": "code",
   "execution_count": 37,
   "metadata": {},
   "outputs": [],
   "source": [
    "from pyspark.ml.feature import VectorAssembler\n",
    "from pyspark.ml.linalg import Vector\n",
    "\n",
    "# Create feature vectors\n",
    "clean_up = VectorAssembler(inputCols=['idf_token', 'length'], outputCol='features')"
   ]
  },
  {
   "cell_type": "code",
   "execution_count": 38,
   "metadata": {},
   "outputs": [],
   "source": [
    "from pyspark.ml import Pipeline\n",
    "data_prep_pipeline = Pipeline(stages=[pos_neg_to_num, tokenizer, stopremove, hashingTF, idf, clean_up])"
   ]
  },
  {
   "cell_type": "code",
   "execution_count": 39,
   "metadata": {},
   "outputs": [
    {
     "name": "stdout",
     "output_type": "stream",
     "text": [
      "103\n"
     ]
    }
   ],
   "source": [
    "print(Intent_df.count())\n",
    "# cleaner = data_prep_pipeline.fit(Intent)"
   ]
  },
  {
   "cell_type": "code",
   "execution_count": 40,
   "metadata": {},
   "outputs": [],
   "source": [
    "cleaner_words = data_prep_pipeline.fit(Intent_words)"
   ]
  },
  {
   "cell_type": "code",
   "execution_count": 41,
   "metadata": {},
   "outputs": [
    {
     "name": "stdout",
     "output_type": "stream",
     "text": [
      "<class 'pyspark.ml.pipeline.PipelineModel'>\n",
      "<class 'pyspark.sql.dataframe.DataFrame'>\n"
     ]
    }
   ],
   "source": [
    "print(type(cleaner_words))\n",
    "print(type(Intent_words))"
   ]
  },
  {
   "cell_type": "code",
   "execution_count": 42,
   "metadata": {},
   "outputs": [],
   "source": [
    "cleaner_no_diff = data_prep_pipeline.fit(Intent_df)"
   ]
  },
  {
   "cell_type": "code",
   "execution_count": 43,
   "metadata": {},
   "outputs": [
    {
     "name": "stdout",
     "output_type": "stream",
     "text": [
      "<class 'pyspark.ml.pipeline.PipelineModel'>\n",
      "<class 'pyspark.sql.dataframe.DataFrame'>\n"
     ]
    }
   ],
   "source": [
    "print(type(cleaner_no_diff))\n",
    "print(type(Intent_df))"
   ]
  },
  {
   "cell_type": "code",
   "execution_count": 44,
   "metadata": {},
   "outputs": [],
   "source": [
    "cleaned_words = cleaner_words.transform(Intent_words)"
   ]
  },
  {
   "cell_type": "code",
   "execution_count": 45,
   "metadata": {},
   "outputs": [],
   "source": [
    "cleaned_no_diff = cleaner_no_diff.transform(Intent_df)"
   ]
  },
  {
   "cell_type": "code",
   "execution_count": 46,
   "metadata": {},
   "outputs": [
    {
     "name": "stdout",
     "output_type": "stream",
     "text": [
      "+-----+--------------------+\n",
      "|label|            features|\n",
      "+-----+--------------------+\n",
      "|  1.0|(262145,[242777,2...|\n",
      "|  1.0|(262145,[30123,26...|\n",
      "|  1.0|(262145,[175264,2...|\n",
      "|  1.0|(262145,[207847,2...|\n",
      "|  1.0|(262145,[158326,2...|\n",
      "|  1.0|(262145,[140962,2...|\n",
      "|  1.0|(262145,[125857,2...|\n",
      "|  1.0|(262145,[125316,2...|\n",
      "|  1.0|(262145,[49097,26...|\n",
      "|  1.0|(262145,[221047,2...|\n",
      "|  1.0|(262145,[152500,2...|\n",
      "|  1.0|(262145,[77425,26...|\n",
      "|  1.0|(262145,[260699,2...|\n",
      "|  1.0|(262145,[166531,2...|\n",
      "|  1.0|(262145,[96737,26...|\n",
      "|  1.0|(262145,[40689,26...|\n",
      "|  0.0|(262145,[24765,26...|\n",
      "|  0.0|(262145,[187317,2...|\n",
      "|  0.0|(262145,[118528,2...|\n",
      "|  0.0|(262145,[261201,2...|\n",
      "+-----+--------------------+\n",
      "only showing top 20 rows\n",
      "\n"
     ]
    }
   ],
   "source": [
    "cleaned_words.select(['label', 'features']).show()"
   ]
  },
  {
   "cell_type": "code",
   "execution_count": 47,
   "metadata": {},
   "outputs": [
    {
     "name": "stdout",
     "output_type": "stream",
     "text": [
      "+-----+--------------------+\n",
      "|label|            features|\n",
      "+-----+--------------------+\n",
      "|  0.0|(262145,[108197,1...|\n",
      "|  0.0|(262145,[28921,61...|\n",
      "|  0.0|(262145,[39014,59...|\n",
      "|  0.0|(262145,[10173,12...|\n",
      "|  0.0|(262145,[55741,83...|\n",
      "|  1.0|(262145,[18497,55...|\n",
      "|  1.0|(262145,[18497,55...|\n",
      "|  0.0|(262145,[39014,59...|\n",
      "|  0.0|(262145,[39014,55...|\n",
      "|  1.0|(262145,[39389,10...|\n",
      "|  0.0|(262145,[49097,61...|\n",
      "|  1.0|(262145,[61093,10...|\n",
      "|  1.0|(262145,[45297,11...|\n",
      "|  1.0|(262145,[35572,79...|\n",
      "|  0.0|(262145,[30123,61...|\n",
      "|  1.0|(262145,[61093,73...|\n",
      "|  1.0|(262145,[8431,610...|\n",
      "|  1.0|(262145,[8538,393...|\n",
      "|  1.0|(262145,[75029,78...|\n",
      "|  1.0|(262145,[20591,61...|\n",
      "+-----+--------------------+\n",
      "only showing top 20 rows\n",
      "\n"
     ]
    }
   ],
   "source": [
    "cleaned_no_diff.select(['label', 'features']).show()"
   ]
  },
  {
   "cell_type": "markdown",
   "metadata": {},
   "source": [
    "Model using intent words"
   ]
  },
  {
   "cell_type": "code",
   "execution_count": 48,
   "metadata": {},
   "outputs": [],
   "source": [
    "\n",
    "from pyspark.ml.classification import NaiveBayes\n",
    "# Break data down into a training set and a testing set\n",
    "training, testing = cleaned_words.randomSplit([0.7, 0.3])\n",
    "\n",
    "# Create a Naive Bayes model and fit training data\n",
    "nb = NaiveBayes()\n",
    "predictor = nb.fit(training)"
   ]
  },
  {
   "cell_type": "code",
   "execution_count": 49,
   "metadata": {},
   "outputs": [
    {
     "name": "stdout",
     "output_type": "stream",
     "text": [
      "+-----------+------+--------+-----+----------+-----------+--------------------+--------------------+--------------------+--------------------+--------------------+----------+\n",
      "|Recognition|length|   class|label|token_text|stop_tokens|          hash_token|           idf_token|            features|       rawPrediction|         probability|prediction|\n",
      "+-----------+------+--------+-----+----------+-----------+--------------------+--------------------+--------------------+--------------------+--------------------+----------+\n",
      "|     adesso|     3|negative|  0.0|  [adesso]|   [adesso]|(262144,[39603],[...|(262144,[39603],[...|(262145,[39603,26...|[-76.341833832881...|[0.95605291076664...|       0.0|\n",
      "|     aperte|     4|negative|  0.0|  [aperte]|   [aperte]|(262144,[53169],[...|(262144,[53169],[...|(262145,[53169,26...|[-83.656021476955...|[0.96766601548961...|       0.0|\n",
      "|       apre|    17|positive|  1.0|    [apre]|     [apre]|(262144,[175264],...|(262144,[175264],...|(262145,[175264,2...|[-178.74046084992...|[0.99947153490001...|       0.0|\n",
      "|        ben|     2|negative|  0.0|     [ben]|      [ben]|(262144,[9303],[1...|(262144,[9303],[4...|(262145,[9303,262...|[-69.027646188806...|[0.94052518918912...|       0.0|\n",
      "|     bianca|     1|negative|  0.0|  [bianca]|   [bianca]|(262144,[66895],[...|(262144,[66895],[...|(262145,[66895,26...|[-61.713458544732...|[0.91997034978074...|       0.0|\n",
      "+-----------+------+--------+-----+----------+-----------+--------------------+--------------------+--------------------+--------------------+--------------------+----------+\n",
      "only showing top 5 rows\n",
      "\n"
     ]
    }
   ],
   "source": [
    "test_results = predictor.transform(testing)\n",
    "# print(testing.columns)\n",
    "# print(test_results.columns)\n",
    "# test_results.toPandas().to_csv(\"test_results.csv\")\n",
    "test_results.show(5)"
   ]
  },
  {
   "cell_type": "code",
   "execution_count": 50,
   "metadata": {},
   "outputs": [
    {
     "name": "stdout",
     "output_type": "stream",
     "text": [
      "Accuracy of model at predicting reviews was: 0.829170\n"
     ]
    }
   ],
   "source": [
    "from pyspark.ml.evaluation import MulticlassClassificationEvaluator\n",
    "\n",
    "acc_eval = MulticlassClassificationEvaluator()\n",
    "acc = acc_eval.evaluate(test_results)\n",
    "print(\"Accuracy of model at predicting reviews was: %f\" % acc)"
   ]
  },
  {
   "cell_type": "markdown",
   "metadata": {},
   "source": [
    "Model using \"no diff\" utterances, as in where recognition and annotation are the same"
   ]
  },
  {
   "cell_type": "code",
   "execution_count": 51,
   "metadata": {},
   "outputs": [],
   "source": [
    "training, testing = cleaned_no_diff.randomSplit([0.7, 0.3])\n",
    "predictor_no_diff = nb.fit(training)"
   ]
  },
  {
   "cell_type": "code",
   "execution_count": 52,
   "metadata": {},
   "outputs": [],
   "source": [
    "test_results = predictor_no_diff.transform(testing)"
   ]
  },
  {
   "cell_type": "code",
   "execution_count": 53,
   "metadata": {},
   "outputs": [
    {
     "name": "stdout",
     "output_type": "stream",
     "text": [
      "Accuracy of model at predicting reviews was: 0.829170\n"
     ]
    }
   ],
   "source": [
    "acc_eval_no_diff = MulticlassClassificationEvaluator()\n",
    "acc_no_diff = acc_eval_no_diff.evaluate(test_results)\n",
    "print(\"Accuracy of model at predicting reviews was: %f\" % acc)"
   ]
  },
  {
   "cell_type": "markdown",
   "metadata": {},
   "source": [
    "Conclusion from 3rd section: more data is necessary, and these methods need to be honed, however, some value very well could be attained by pulling out meaning from the questions customers are asking."
   ]
  }
 ],
 "metadata": {
  "kernelspec": {
   "display_name": "Python 3",
   "language": "python",
   "name": "python3"
  },
  "language_info": {
   "codemirror_mode": {
    "name": "ipython",
    "version": 3
   },
   "file_extension": ".py",
   "mimetype": "text/x-python",
   "name": "python",
   "nbconvert_exporter": "python",
   "pygments_lexer": "ipython3",
   "version": "3.6.8"
  }
 },
 "nbformat": 4,
 "nbformat_minor": 2
}
